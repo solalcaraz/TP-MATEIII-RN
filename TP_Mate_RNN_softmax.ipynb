{
  "cells": [
    {
      "cell_type": "markdown",
      "metadata": {
        "id": "79M9fZynpFr9"
      },
      "source": [
        "# RED NEURONAL.\n",
        "El objetivo de este trabajo es armar una red neuronal que pueda predecir la siguiente nota. Se elaboraron tres modelos, el basico donde se trabajo primeramente, el siguiente modelo armado con la funcion de activacion softmax y el modelo armado con tensorflow que sirvio de control.\n",
        "\n",
        "La base de datos elegida es un conjunto de datos que contiene alrededor de 200hs de grabaciones de audio y MIDI emparejadas de diez años de Concurso Internacional de Piano.\n",
        "\n",
        "FUENTE: https://magenta.tensorflow.org/datasets/maestro\n",
        "\n",
        "- Aclaracion: Este modelo fue el siguiente, donde se plantea el uso de la funcion de activacion softmax para la capa de salida."
      ]
    },
    {
      "cell_type": "code",
      "execution_count": 2,
      "metadata": {
        "id": "HQahjYI4zzBx",
        "trusted": true,
        "collapsed": true,
        "outputId": "e5a3ed6c-54c3-4c25-9c15-f1aec7f30e96",
        "colab": {
          "base_uri": "https://localhost:8080/"
        }
      },
      "outputs": [
        {
          "output_type": "stream",
          "name": "stdout",
          "text": [
            "Collecting pretty_midi\n",
            "  Downloading pretty_midi-0.2.10.tar.gz (5.6 MB)\n",
            "\u001b[?25l     \u001b[90m━━━━━━━━━━━━━━━━━━━━━━━━━━━━━━━━━━━━━━━━\u001b[0m \u001b[32m0.0/5.6 MB\u001b[0m \u001b[31m?\u001b[0m eta \u001b[36m-:--:--\u001b[0m\r\u001b[2K     \u001b[91m━\u001b[0m\u001b[90m╺\u001b[0m\u001b[90m━━━━━━━━━━━━━━━━━━━━━━━━━━━━━━━━━━━━━━\u001b[0m \u001b[32m0.1/5.6 MB\u001b[0m \u001b[31m4.3 MB/s\u001b[0m eta \u001b[36m0:00:02\u001b[0m\r\u001b[2K     \u001b[91m━━━━━━━━━━━\u001b[0m\u001b[90m╺\u001b[0m\u001b[90m━━━━━━━━━━━━━━━━━━━━━━━━━━━━\u001b[0m \u001b[32m1.6/5.6 MB\u001b[0m \u001b[31m22.9 MB/s\u001b[0m eta \u001b[36m0:00:01\u001b[0m\r\u001b[2K     \u001b[91m━━━━━━━━━━━━━━━━━━━━━━━━━━━━━━━━━━━━━━━\u001b[0m\u001b[91m╸\u001b[0m \u001b[32m5.6/5.6 MB\u001b[0m \u001b[31m58.8 MB/s\u001b[0m eta \u001b[36m0:00:01\u001b[0m\r\u001b[2K     \u001b[90m━━━━━━━━━━━━━━━━━━━━━━━━━━━━━━━━━━━━━━━━\u001b[0m \u001b[32m5.6/5.6 MB\u001b[0m \u001b[31m41.9 MB/s\u001b[0m eta \u001b[36m0:00:00\u001b[0m\n",
            "\u001b[?25h  Preparing metadata (setup.py) ... \u001b[?25l\u001b[?25hdone\n",
            "Requirement already satisfied: numpy>=1.7.0 in /usr/local/lib/python3.10/dist-packages (from pretty_midi) (1.25.2)\n",
            "Collecting mido>=1.1.16 (from pretty_midi)\n",
            "  Downloading mido-1.3.2-py3-none-any.whl (54 kB)\n",
            "\u001b[2K     \u001b[90m━━━━━━━━━━━━━━━━━━━━━━━━━━━━━━━━━━━━━━━━\u001b[0m \u001b[32m54.6/54.6 kB\u001b[0m \u001b[31m7.1 MB/s\u001b[0m eta \u001b[36m0:00:00\u001b[0m\n",
            "\u001b[?25hRequirement already satisfied: six in /usr/local/lib/python3.10/dist-packages (from pretty_midi) (1.16.0)\n",
            "Collecting packaging~=23.1 (from mido>=1.1.16->pretty_midi)\n",
            "  Downloading packaging-23.2-py3-none-any.whl (53 kB)\n",
            "\u001b[2K     \u001b[90m━━━━━━━━━━━━━━━━━━━━━━━━━━━━━━━━━━━━━━━━\u001b[0m \u001b[32m53.0/53.0 kB\u001b[0m \u001b[31m3.4 MB/s\u001b[0m eta \u001b[36m0:00:00\u001b[0m\n",
            "\u001b[?25hBuilding wheels for collected packages: pretty_midi\n",
            "  Building wheel for pretty_midi (setup.py) ... \u001b[?25l\u001b[?25hdone\n",
            "  Created wheel for pretty_midi: filename=pretty_midi-0.2.10-py3-none-any.whl size=5592289 sha256=2381ad84bfe4dc27ca28e69eab698edebfde3a494f050a7fedac47d30277ebd6\n",
            "  Stored in directory: /root/.cache/pip/wheels/cd/a5/30/7b8b7f58709f5150f67f98fde4b891ebf0be9ef07a8af49f25\n",
            "Successfully built pretty_midi\n",
            "Installing collected packages: packaging, mido, pretty_midi\n",
            "  Attempting uninstall: packaging\n",
            "    Found existing installation: packaging 24.0\n",
            "    Uninstalling packaging-24.0:\n",
            "      Successfully uninstalled packaging-24.0\n",
            "Successfully installed mido-1.3.2 packaging-23.2 pretty_midi-0.2.10\n",
            "Requirement already satisfied: tensorflow in /usr/local/lib/python3.10/dist-packages (2.15.0)\n",
            "Requirement already satisfied: absl-py>=1.0.0 in /usr/local/lib/python3.10/dist-packages (from tensorflow) (1.4.0)\n",
            "Requirement already satisfied: astunparse>=1.6.0 in /usr/local/lib/python3.10/dist-packages (from tensorflow) (1.6.3)\n",
            "Requirement already satisfied: flatbuffers>=23.5.26 in /usr/local/lib/python3.10/dist-packages (from tensorflow) (24.3.25)\n",
            "Requirement already satisfied: gast!=0.5.0,!=0.5.1,!=0.5.2,>=0.2.1 in /usr/local/lib/python3.10/dist-packages (from tensorflow) (0.5.4)\n",
            "Requirement already satisfied: google-pasta>=0.1.1 in /usr/local/lib/python3.10/dist-packages (from tensorflow) (0.2.0)\n",
            "Requirement already satisfied: h5py>=2.9.0 in /usr/local/lib/python3.10/dist-packages (from tensorflow) (3.9.0)\n",
            "Requirement already satisfied: libclang>=13.0.0 in /usr/local/lib/python3.10/dist-packages (from tensorflow) (18.1.1)\n",
            "Requirement already satisfied: ml-dtypes~=0.2.0 in /usr/local/lib/python3.10/dist-packages (from tensorflow) (0.2.0)\n",
            "Requirement already satisfied: numpy<2.0.0,>=1.23.5 in /usr/local/lib/python3.10/dist-packages (from tensorflow) (1.25.2)\n",
            "Requirement already satisfied: opt-einsum>=2.3.2 in /usr/local/lib/python3.10/dist-packages (from tensorflow) (3.3.0)\n",
            "Requirement already satisfied: packaging in /usr/local/lib/python3.10/dist-packages (from tensorflow) (23.2)\n",
            "Requirement already satisfied: protobuf!=4.21.0,!=4.21.1,!=4.21.2,!=4.21.3,!=4.21.4,!=4.21.5,<5.0.0dev,>=3.20.3 in /usr/local/lib/python3.10/dist-packages (from tensorflow) (3.20.3)\n",
            "Requirement already satisfied: setuptools in /usr/local/lib/python3.10/dist-packages (from tensorflow) (67.7.2)\n",
            "Requirement already satisfied: six>=1.12.0 in /usr/local/lib/python3.10/dist-packages (from tensorflow) (1.16.0)\n",
            "Requirement already satisfied: termcolor>=1.1.0 in /usr/local/lib/python3.10/dist-packages (from tensorflow) (2.4.0)\n",
            "Requirement already satisfied: typing-extensions>=3.6.6 in /usr/local/lib/python3.10/dist-packages (from tensorflow) (4.12.1)\n",
            "Requirement already satisfied: wrapt<1.15,>=1.11.0 in /usr/local/lib/python3.10/dist-packages (from tensorflow) (1.14.1)\n",
            "Requirement already satisfied: tensorflow-io-gcs-filesystem>=0.23.1 in /usr/local/lib/python3.10/dist-packages (from tensorflow) (0.37.0)\n",
            "Requirement already satisfied: grpcio<2.0,>=1.24.3 in /usr/local/lib/python3.10/dist-packages (from tensorflow) (1.64.1)\n",
            "Requirement already satisfied: tensorboard<2.16,>=2.15 in /usr/local/lib/python3.10/dist-packages (from tensorflow) (2.15.2)\n",
            "Requirement already satisfied: tensorflow-estimator<2.16,>=2.15.0 in /usr/local/lib/python3.10/dist-packages (from tensorflow) (2.15.0)\n",
            "Requirement already satisfied: keras<2.16,>=2.15.0 in /usr/local/lib/python3.10/dist-packages (from tensorflow) (2.15.0)\n",
            "Requirement already satisfied: wheel<1.0,>=0.23.0 in /usr/local/lib/python3.10/dist-packages (from astunparse>=1.6.0->tensorflow) (0.43.0)\n",
            "Requirement already satisfied: google-auth<3,>=1.6.3 in /usr/local/lib/python3.10/dist-packages (from tensorboard<2.16,>=2.15->tensorflow) (2.27.0)\n",
            "Requirement already satisfied: google-auth-oauthlib<2,>=0.5 in /usr/local/lib/python3.10/dist-packages (from tensorboard<2.16,>=2.15->tensorflow) (1.2.0)\n",
            "Requirement already satisfied: markdown>=2.6.8 in /usr/local/lib/python3.10/dist-packages (from tensorboard<2.16,>=2.15->tensorflow) (3.6)\n",
            "Requirement already satisfied: requests<3,>=2.21.0 in /usr/local/lib/python3.10/dist-packages (from tensorboard<2.16,>=2.15->tensorflow) (2.31.0)\n",
            "Requirement already satisfied: tensorboard-data-server<0.8.0,>=0.7.0 in /usr/local/lib/python3.10/dist-packages (from tensorboard<2.16,>=2.15->tensorflow) (0.7.2)\n",
            "Requirement already satisfied: werkzeug>=1.0.1 in /usr/local/lib/python3.10/dist-packages (from tensorboard<2.16,>=2.15->tensorflow) (3.0.3)\n",
            "Requirement already satisfied: cachetools<6.0,>=2.0.0 in /usr/local/lib/python3.10/dist-packages (from google-auth<3,>=1.6.3->tensorboard<2.16,>=2.15->tensorflow) (5.3.3)\n",
            "Requirement already satisfied: pyasn1-modules>=0.2.1 in /usr/local/lib/python3.10/dist-packages (from google-auth<3,>=1.6.3->tensorboard<2.16,>=2.15->tensorflow) (0.4.0)\n",
            "Requirement already satisfied: rsa<5,>=3.1.4 in /usr/local/lib/python3.10/dist-packages (from google-auth<3,>=1.6.3->tensorboard<2.16,>=2.15->tensorflow) (4.9)\n",
            "Requirement already satisfied: requests-oauthlib>=0.7.0 in /usr/local/lib/python3.10/dist-packages (from google-auth-oauthlib<2,>=0.5->tensorboard<2.16,>=2.15->tensorflow) (1.3.1)\n",
            "Requirement already satisfied: charset-normalizer<4,>=2 in /usr/local/lib/python3.10/dist-packages (from requests<3,>=2.21.0->tensorboard<2.16,>=2.15->tensorflow) (3.3.2)\n",
            "Requirement already satisfied: idna<4,>=2.5 in /usr/local/lib/python3.10/dist-packages (from requests<3,>=2.21.0->tensorboard<2.16,>=2.15->tensorflow) (3.7)\n",
            "Requirement already satisfied: urllib3<3,>=1.21.1 in /usr/local/lib/python3.10/dist-packages (from requests<3,>=2.21.0->tensorboard<2.16,>=2.15->tensorflow) (2.0.7)\n",
            "Requirement already satisfied: certifi>=2017.4.17 in /usr/local/lib/python3.10/dist-packages (from requests<3,>=2.21.0->tensorboard<2.16,>=2.15->tensorflow) (2024.6.2)\n",
            "Requirement already satisfied: MarkupSafe>=2.1.1 in /usr/local/lib/python3.10/dist-packages (from werkzeug>=1.0.1->tensorboard<2.16,>=2.15->tensorflow) (2.1.5)\n",
            "Requirement already satisfied: pyasn1<0.7.0,>=0.4.6 in /usr/local/lib/python3.10/dist-packages (from pyasn1-modules>=0.2.1->google-auth<3,>=1.6.3->tensorboard<2.16,>=2.15->tensorflow) (0.6.0)\n",
            "Requirement already satisfied: oauthlib>=3.0.0 in /usr/local/lib/python3.10/dist-packages (from requests-oauthlib>=0.7.0->google-auth-oauthlib<2,>=0.5->tensorboard<2.16,>=2.15->tensorflow) (3.2.2)\n",
            "Requirement already satisfied: scikit-learn in /usr/local/lib/python3.10/dist-packages (1.2.2)\n",
            "Requirement already satisfied: numpy>=1.17.3 in /usr/local/lib/python3.10/dist-packages (from scikit-learn) (1.25.2)\n",
            "Requirement already satisfied: scipy>=1.3.2 in /usr/local/lib/python3.10/dist-packages (from scikit-learn) (1.11.4)\n",
            "Requirement already satisfied: joblib>=1.1.1 in /usr/local/lib/python3.10/dist-packages (from scikit-learn) (1.4.2)\n",
            "Requirement already satisfied: threadpoolctl>=2.0.0 in /usr/local/lib/python3.10/dist-packages (from scikit-learn) (3.5.0)\n"
          ]
        }
      ],
      "source": [
        "# import zipfile as zf\n",
        "# files = zf.ZipFile(\"/content/maestro-v3.0.0-midi.zip\", 'r')\n",
        "# files.extractall('data/')\n",
        "# files.close()\n",
        "!pip install pretty_midi\n",
        "!pip install tensorflow\n",
        "!pip install scikit-learn"
      ]
    },
    {
      "cell_type": "markdown",
      "metadata": {
        "id": "NCReHdbOzzBz"
      },
      "source": [
        "Se instalan todos los paquetes relevantes para procesar y escuchar archivos MIDI, glob para iterar sobre los archivos del dataset, collections para el diccionario con valor por defecto, y pathlib para abrir el archivo."
      ]
    },
    {
      "cell_type": "code",
      "execution_count": 3,
      "metadata": {
        "id": "YpceBp8_zzB1",
        "trusted": true
      },
      "outputs": [],
      "source": [
        "import collections\n",
        "import glob\n",
        "import numpy as np\n",
        "import pathlib\n",
        "import pandas as pd\n",
        "import pretty_midi\n",
        "import tensorflow as tf\n",
        "import itertools\n",
        "from sklearn.model_selection import train_test_split"
      ]
    },
    {
      "cell_type": "markdown",
      "metadata": {
        "id": "ORs0ge5bzzB1"
      },
      "source": [
        "Se define un directorio que contendra todos los archivos MIDI que seran analizados. Se arma una funcion que convierte esos archivos a un DataFrame de pandas donde utilizamos una variable para definir una \"nota\" que contendra como caracteristica el tono (pitch). Tono es la calidad sonora de la nota, lo que la distingue de otras."
      ]
    },
    {
      "cell_type": "code",
      "source": [
        "np.random.seed(10)"
      ],
      "metadata": {
        "id": "8b_pBJF5mepS"
      },
      "execution_count": 4,
      "outputs": []
    },
    {
      "cell_type": "code",
      "execution_count": 5,
      "metadata": {
        "colab": {
          "base_uri": "https://localhost:8080/"
        },
        "id": "nH-UBIUtzzCI",
        "outputId": "ad64a72e-cd4c-4065-d6ae-cab47a0d40ce",
        "trusted": true
      },
      "outputs": [
        {
          "output_type": "stream",
          "name": "stdout",
          "text": [
            "Downloading data from https://storage.googleapis.com/magentadata/datasets/maestro/v2.0.0/maestro-v2.0.0-midi.zip\n",
            "59243107/59243107 [==============================] - 0s 0us/step\n",
            "num archivos: 1282\n"
          ]
        }
      ],
      "source": [
        "directorio = pathlib.Path('data/maestro-v2.0.0')\n",
        "if not directorio.exists():\n",
        "  tf.keras.utils.get_file(\n",
        "      'maestro-v2.0.0-midi.zip',\n",
        "      origin='https://storage.googleapis.com/magentadata/datasets/maestro/v2.0.0/maestro-v2.0.0-midi.zip',\n",
        "      extract=True,\n",
        "      cache_dir='.', cache_subdir='data',\n",
        "  )\n",
        "\n",
        "filenames = glob.glob(str(directorio/'**/*.mid*'))\n",
        "print('num archivos:', len(filenames))\n",
        "\n",
        "# sample_file = \"/content/MIDI-Unprocessed_25_R2_2011_MID--AUDIO_R2-D6_07_Track07_wav.midi\"\n",
        "# print(sample_file)\n",
        "\n",
        "def midi_a_notas(midifile: str) -> pd.DataFrame:\n",
        "    pm = pretty_midi.PrettyMIDI(midifile)\n",
        "    instrumento = pm.instruments[0]\n",
        "    notas = collections.defaultdict(list)\n",
        "\n",
        "    notas_orden = sorted(instrumento.notes, key=lambda nota: nota.start)\n",
        "    previa_inicio = notas_orden[0].start\n",
        "\n",
        "    for nota in notas_orden:\n",
        "        notas['pitch'].append(nota.pitch)\n",
        "\n",
        "    return pd.DataFrame({nombre: np.array(valor) for nombre, valor in notas.items()})"
      ]
    },
    {
      "cell_type": "markdown",
      "metadata": {
        "id": "zCPieVI_zzCI"
      },
      "source": [
        "Se agrega un fragmento de codigo hecho por otra persona, que permite escribir un dataframe con notas en un archivo midi y lo devuelve como prettyMIDI para poder escucharlo (No se usa):"
      ]
    },
    {
      "cell_type": "code",
      "execution_count": 6,
      "metadata": {
        "id": "-PeuOiUxzzCJ",
        "trusted": true
      },
      "outputs": [],
      "source": [
        "def notes_to_midi(\n",
        "  notes: pd.DataFrame,\n",
        "  out_file: str,\n",
        "  instrument_name: str,\n",
        "  velocity: int = 100,  # note loudness\n",
        ") -> pretty_midi.PrettyMIDI:\n",
        "\n",
        "  pm = pretty_midi.PrettyMIDI()\n",
        "  instrument = pretty_midi.Instrument(\n",
        "      program=pretty_midi.instrument_name_to_program(\n",
        "          instrument_name))\n",
        "\n",
        "  prev_start = 0\n",
        "  for i, note in notes.iterrows():\n",
        "    start = float(prev_start + note['step'])\n",
        "    end = float(start + note['duration'])\n",
        "    note = pretty_midi.Note(\n",
        "        velocity=velocity,\n",
        "        pitch=int(note['pitch']),\n",
        "        start=start,\n",
        "        end=end,\n",
        "    )\n",
        "    instrument.notes.append(note)\n",
        "    prev_start = start\n",
        "\n",
        "  pm.instruments.append(instrument)\n",
        "  pm.write(out_file)\n",
        "  return pm"
      ]
    },
    {
      "cell_type": "markdown",
      "metadata": {
        "id": "8v8T0lcpgFfe"
      },
      "source": [
        "Se procesan los archivos MIDI, se extraen las notas de cada archivo y se preparan los datos para el modelo del aprendizaje automatico mas adelante."
      ]
    },
    {
      "cell_type": "code",
      "execution_count": 29,
      "metadata": {
        "colab": {
          "base_uri": "https://localhost:8080/"
        },
        "id": "pj2yutyNzzCJ",
        "outputId": "820b0b05-2205-4a23-cc05-39196d74fe9c",
        "trusted": true
      },
      "outputs": [
        {
          "output_type": "stream",
          "name": "stdout",
          "text": [
            "   pitch\n",
            "0      3\n",
            "1      3\n",
            "2      2\n",
            "3      3\n",
            "4      1\n",
            "[ 3  3  2 ...  5  8 12]\n"
          ]
        }
      ],
      "source": [
        "notasGlobal = []\n",
        "tam_muestra = 3\n",
        "\n",
        "for f in filenames[:tam_muestra]:\n",
        "  notas = midi_a_notas(f)\n",
        "  notasGlobal.append((notas%12)+1)\n",
        "\n",
        "notasGlobal = pd.concat(notasGlobal)\n",
        "print(notasGlobal.head())\n",
        "\n",
        "indice_notas = ['pitch']\n",
        "notas_entrenamiento = np.array([notasGlobal[key] for key in indice_notas]).flatten()\n",
        "np.set_printoptions(precision=3)\n",
        "dataset_nota = tf.data.Dataset.from_tensor_slices(notas_entrenamiento)\n",
        "print(notas_entrenamiento)\n",
        "#print(list(dataset_nota.as_numpy_iterator()))"
      ]
    },
    {
      "cell_type": "markdown",
      "metadata": {
        "id": "4lARgNBmgWoq"
      },
      "source": [
        "Luego, transformamos el dataset de las notas en ventanas de secuencias para su uso."
      ]
    },
    {
      "cell_type": "code",
      "execution_count": 30,
      "metadata": {
        "colab": {
          "base_uri": "https://localhost:8080/"
        },
        "id": "k_IG3KLnzzCK",
        "outputId": "6e01696a-b600-4b16-abf0-297446227c6b",
        "trusted": true
      },
      "outputs": [
        {
          "output_type": "execute_result",
          "data": {
            "text/plain": [
              "0    8\n",
              "1    3\n",
              "2    3\n",
              "3    8\n",
              "4    6\n",
              "Name: output, dtype: int64"
            ]
          },
          "metadata": {},
          "execution_count": 30
        }
      ],
      "source": [
        "def ventanizar(dataset, tam_ventana, alfabeto_notas = 12,) -> tf.data.Dataset:\n",
        "  tam_ventana = tam_ventana + 1\n",
        "\n",
        "  windows = dataset.window(tam_ventana, shift=1, stride=1, drop_remainder=True)\n",
        "  flatten = lambda x: x.batch(tam_ventana, drop_remainder=True)\n",
        "  sequences = windows.flat_map(flatten)\n",
        "\n",
        "  # Normalize tono de las notas\n",
        "  def normalizar_tono(x):\n",
        "    x = x/alfabeto_notas\n",
        "    return x\n",
        "\n",
        "  # Partimos los indices\n",
        "  def partir_indices(sequences):\n",
        "    inputs = sequences[:-1]\n",
        "    outputs_dense = sequences[-1]\n",
        "    return normalizar_tono(inputs), outputs_dense\n",
        "  return sequences.map(partir_indices,num_parallel_calls=tf.data.AUTOTUNE)\n",
        "\n",
        "ventanitas = ventanizar(dataset_nota, 100)\n",
        "dataset_pandas = pd.DataFrame(list(ventanitas.as_numpy_iterator()), columns=['inputs','output'])\n",
        "dataset_pandas['output'].head()"
      ]
    },
    {
      "cell_type": "markdown",
      "source": [
        "Convertimos el output a formato one-hot, convirtiendo cada indice a un formato binario de 128 caracteres, donde el unico \"1\" es el que corresponde a dicho indice\n",
        "Ej: [0,1,2,3,4] = [[1,0,0,0,0],\n",
        "                   [0,1,0,0,0],\n",
        "                   [0,0,1,0,0],\n",
        "                   [0,0,0,1,0],\n",
        "                   [0,0,0,0,1]]"
      ],
      "metadata": {
        "id": "PwJFDJq78_vc"
      }
    },
    {
      "cell_type": "code",
      "source": [
        "def onehotizar(valor):\n",
        "  lista = [0 for x in range(12)]\n",
        "  lista[valor-1] = 1\n",
        "  return lista\n",
        "\n",
        "dataset_pandas['output'] = dataset_pandas['output'].map(onehotizar)\n"
      ],
      "metadata": {
        "id": "TlMa_LqppOgu"
      },
      "execution_count": 31,
      "outputs": []
    },
    {
      "cell_type": "code",
      "source": [
        "\n",
        "dataset_pandas.head()"
      ],
      "metadata": {
        "id": "xk3nOUH6s8lZ",
        "outputId": "c3fda59f-aa84-4630-e575-03fef0a5defe",
        "colab": {
          "base_uri": "https://localhost:8080/",
          "height": 206
        }
      },
      "execution_count": 32,
      "outputs": [
        {
          "output_type": "execute_result",
          "data": {
            "text/plain": [
              "                                              inputs  \\\n",
              "0  [0.25, 0.25, 0.16666666666666666, 0.25, 0.0833...   \n",
              "1  [0.25, 0.16666666666666666, 0.25, 0.0833333333...   \n",
              "2  [0.16666666666666666, 0.25, 0.0833333333333333...   \n",
              "3  [0.25, 0.08333333333333333, 0.9166666666666666...   \n",
              "4  [0.08333333333333333, 0.9166666666666666, 0.83...   \n",
              "\n",
              "                                 output  \n",
              "0  [0, 0, 0, 0, 0, 0, 0, 1, 0, 0, 0, 0]  \n",
              "1  [0, 0, 1, 0, 0, 0, 0, 0, 0, 0, 0, 0]  \n",
              "2  [0, 0, 1, 0, 0, 0, 0, 0, 0, 0, 0, 0]  \n",
              "3  [0, 0, 0, 0, 0, 0, 0, 1, 0, 0, 0, 0]  \n",
              "4  [0, 0, 0, 0, 0, 1, 0, 0, 0, 0, 0, 0]  "
            ],
            "text/html": [
              "\n",
              "  <div id=\"df-266e039c-1b37-4113-a4a8-0cda4fe49656\" class=\"colab-df-container\">\n",
              "    <div>\n",
              "<style scoped>\n",
              "    .dataframe tbody tr th:only-of-type {\n",
              "        vertical-align: middle;\n",
              "    }\n",
              "\n",
              "    .dataframe tbody tr th {\n",
              "        vertical-align: top;\n",
              "    }\n",
              "\n",
              "    .dataframe thead th {\n",
              "        text-align: right;\n",
              "    }\n",
              "</style>\n",
              "<table border=\"1\" class=\"dataframe\">\n",
              "  <thead>\n",
              "    <tr style=\"text-align: right;\">\n",
              "      <th></th>\n",
              "      <th>inputs</th>\n",
              "      <th>output</th>\n",
              "    </tr>\n",
              "  </thead>\n",
              "  <tbody>\n",
              "    <tr>\n",
              "      <th>0</th>\n",
              "      <td>[0.25, 0.25, 0.16666666666666666, 0.25, 0.0833...</td>\n",
              "      <td>[0, 0, 0, 0, 0, 0, 0, 1, 0, 0, 0, 0]</td>\n",
              "    </tr>\n",
              "    <tr>\n",
              "      <th>1</th>\n",
              "      <td>[0.25, 0.16666666666666666, 0.25, 0.0833333333...</td>\n",
              "      <td>[0, 0, 1, 0, 0, 0, 0, 0, 0, 0, 0, 0]</td>\n",
              "    </tr>\n",
              "    <tr>\n",
              "      <th>2</th>\n",
              "      <td>[0.16666666666666666, 0.25, 0.0833333333333333...</td>\n",
              "      <td>[0, 0, 1, 0, 0, 0, 0, 0, 0, 0, 0, 0]</td>\n",
              "    </tr>\n",
              "    <tr>\n",
              "      <th>3</th>\n",
              "      <td>[0.25, 0.08333333333333333, 0.9166666666666666...</td>\n",
              "      <td>[0, 0, 0, 0, 0, 0, 0, 1, 0, 0, 0, 0]</td>\n",
              "    </tr>\n",
              "    <tr>\n",
              "      <th>4</th>\n",
              "      <td>[0.08333333333333333, 0.9166666666666666, 0.83...</td>\n",
              "      <td>[0, 0, 0, 0, 0, 1, 0, 0, 0, 0, 0, 0]</td>\n",
              "    </tr>\n",
              "  </tbody>\n",
              "</table>\n",
              "</div>\n",
              "    <div class=\"colab-df-buttons\">\n",
              "\n",
              "  <div class=\"colab-df-container\">\n",
              "    <button class=\"colab-df-convert\" onclick=\"convertToInteractive('df-266e039c-1b37-4113-a4a8-0cda4fe49656')\"\n",
              "            title=\"Convert this dataframe to an interactive table.\"\n",
              "            style=\"display:none;\">\n",
              "\n",
              "  <svg xmlns=\"http://www.w3.org/2000/svg\" height=\"24px\" viewBox=\"0 -960 960 960\">\n",
              "    <path d=\"M120-120v-720h720v720H120Zm60-500h600v-160H180v160Zm220 220h160v-160H400v160Zm0 220h160v-160H400v160ZM180-400h160v-160H180v160Zm440 0h160v-160H620v160ZM180-180h160v-160H180v160Zm440 0h160v-160H620v160Z\"/>\n",
              "  </svg>\n",
              "    </button>\n",
              "\n",
              "  <style>\n",
              "    .colab-df-container {\n",
              "      display:flex;\n",
              "      gap: 12px;\n",
              "    }\n",
              "\n",
              "    .colab-df-convert {\n",
              "      background-color: #E8F0FE;\n",
              "      border: none;\n",
              "      border-radius: 50%;\n",
              "      cursor: pointer;\n",
              "      display: none;\n",
              "      fill: #1967D2;\n",
              "      height: 32px;\n",
              "      padding: 0 0 0 0;\n",
              "      width: 32px;\n",
              "    }\n",
              "\n",
              "    .colab-df-convert:hover {\n",
              "      background-color: #E2EBFA;\n",
              "      box-shadow: 0px 1px 2px rgba(60, 64, 67, 0.3), 0px 1px 3px 1px rgba(60, 64, 67, 0.15);\n",
              "      fill: #174EA6;\n",
              "    }\n",
              "\n",
              "    .colab-df-buttons div {\n",
              "      margin-bottom: 4px;\n",
              "    }\n",
              "\n",
              "    [theme=dark] .colab-df-convert {\n",
              "      background-color: #3B4455;\n",
              "      fill: #D2E3FC;\n",
              "    }\n",
              "\n",
              "    [theme=dark] .colab-df-convert:hover {\n",
              "      background-color: #434B5C;\n",
              "      box-shadow: 0px 1px 3px 1px rgba(0, 0, 0, 0.15);\n",
              "      filter: drop-shadow(0px 1px 2px rgba(0, 0, 0, 0.3));\n",
              "      fill: #FFFFFF;\n",
              "    }\n",
              "  </style>\n",
              "\n",
              "    <script>\n",
              "      const buttonEl =\n",
              "        document.querySelector('#df-266e039c-1b37-4113-a4a8-0cda4fe49656 button.colab-df-convert');\n",
              "      buttonEl.style.display =\n",
              "        google.colab.kernel.accessAllowed ? 'block' : 'none';\n",
              "\n",
              "      async function convertToInteractive(key) {\n",
              "        const element = document.querySelector('#df-266e039c-1b37-4113-a4a8-0cda4fe49656');\n",
              "        const dataTable =\n",
              "          await google.colab.kernel.invokeFunction('convertToInteractive',\n",
              "                                                    [key], {});\n",
              "        if (!dataTable) return;\n",
              "\n",
              "        const docLinkHtml = 'Like what you see? Visit the ' +\n",
              "          '<a target=\"_blank\" href=https://colab.research.google.com/notebooks/data_table.ipynb>data table notebook</a>'\n",
              "          + ' to learn more about interactive tables.';\n",
              "        element.innerHTML = '';\n",
              "        dataTable['output_type'] = 'display_data';\n",
              "        await google.colab.output.renderOutput(dataTable, element);\n",
              "        const docLink = document.createElement('div');\n",
              "        docLink.innerHTML = docLinkHtml;\n",
              "        element.appendChild(docLink);\n",
              "      }\n",
              "    </script>\n",
              "  </div>\n",
              "\n",
              "\n",
              "<div id=\"df-073f377d-dee0-4811-9f1b-4e356fa7a89f\">\n",
              "  <button class=\"colab-df-quickchart\" onclick=\"quickchart('df-073f377d-dee0-4811-9f1b-4e356fa7a89f')\"\n",
              "            title=\"Suggest charts\"\n",
              "            style=\"display:none;\">\n",
              "\n",
              "<svg xmlns=\"http://www.w3.org/2000/svg\" height=\"24px\"viewBox=\"0 0 24 24\"\n",
              "     width=\"24px\">\n",
              "    <g>\n",
              "        <path d=\"M19 3H5c-1.1 0-2 .9-2 2v14c0 1.1.9 2 2 2h14c1.1 0 2-.9 2-2V5c0-1.1-.9-2-2-2zM9 17H7v-7h2v7zm4 0h-2V7h2v10zm4 0h-2v-4h2v4z\"/>\n",
              "    </g>\n",
              "</svg>\n",
              "  </button>\n",
              "\n",
              "<style>\n",
              "  .colab-df-quickchart {\n",
              "      --bg-color: #E8F0FE;\n",
              "      --fill-color: #1967D2;\n",
              "      --hover-bg-color: #E2EBFA;\n",
              "      --hover-fill-color: #174EA6;\n",
              "      --disabled-fill-color: #AAA;\n",
              "      --disabled-bg-color: #DDD;\n",
              "  }\n",
              "\n",
              "  [theme=dark] .colab-df-quickchart {\n",
              "      --bg-color: #3B4455;\n",
              "      --fill-color: #D2E3FC;\n",
              "      --hover-bg-color: #434B5C;\n",
              "      --hover-fill-color: #FFFFFF;\n",
              "      --disabled-bg-color: #3B4455;\n",
              "      --disabled-fill-color: #666;\n",
              "  }\n",
              "\n",
              "  .colab-df-quickchart {\n",
              "    background-color: var(--bg-color);\n",
              "    border: none;\n",
              "    border-radius: 50%;\n",
              "    cursor: pointer;\n",
              "    display: none;\n",
              "    fill: var(--fill-color);\n",
              "    height: 32px;\n",
              "    padding: 0;\n",
              "    width: 32px;\n",
              "  }\n",
              "\n",
              "  .colab-df-quickchart:hover {\n",
              "    background-color: var(--hover-bg-color);\n",
              "    box-shadow: 0 1px 2px rgba(60, 64, 67, 0.3), 0 1px 3px 1px rgba(60, 64, 67, 0.15);\n",
              "    fill: var(--button-hover-fill-color);\n",
              "  }\n",
              "\n",
              "  .colab-df-quickchart-complete:disabled,\n",
              "  .colab-df-quickchart-complete:disabled:hover {\n",
              "    background-color: var(--disabled-bg-color);\n",
              "    fill: var(--disabled-fill-color);\n",
              "    box-shadow: none;\n",
              "  }\n",
              "\n",
              "  .colab-df-spinner {\n",
              "    border: 2px solid var(--fill-color);\n",
              "    border-color: transparent;\n",
              "    border-bottom-color: var(--fill-color);\n",
              "    animation:\n",
              "      spin 1s steps(1) infinite;\n",
              "  }\n",
              "\n",
              "  @keyframes spin {\n",
              "    0% {\n",
              "      border-color: transparent;\n",
              "      border-bottom-color: var(--fill-color);\n",
              "      border-left-color: var(--fill-color);\n",
              "    }\n",
              "    20% {\n",
              "      border-color: transparent;\n",
              "      border-left-color: var(--fill-color);\n",
              "      border-top-color: var(--fill-color);\n",
              "    }\n",
              "    30% {\n",
              "      border-color: transparent;\n",
              "      border-left-color: var(--fill-color);\n",
              "      border-top-color: var(--fill-color);\n",
              "      border-right-color: var(--fill-color);\n",
              "    }\n",
              "    40% {\n",
              "      border-color: transparent;\n",
              "      border-right-color: var(--fill-color);\n",
              "      border-top-color: var(--fill-color);\n",
              "    }\n",
              "    60% {\n",
              "      border-color: transparent;\n",
              "      border-right-color: var(--fill-color);\n",
              "    }\n",
              "    80% {\n",
              "      border-color: transparent;\n",
              "      border-right-color: var(--fill-color);\n",
              "      border-bottom-color: var(--fill-color);\n",
              "    }\n",
              "    90% {\n",
              "      border-color: transparent;\n",
              "      border-bottom-color: var(--fill-color);\n",
              "    }\n",
              "  }\n",
              "</style>\n",
              "\n",
              "  <script>\n",
              "    async function quickchart(key) {\n",
              "      const quickchartButtonEl =\n",
              "        document.querySelector('#' + key + ' button');\n",
              "      quickchartButtonEl.disabled = true;  // To prevent multiple clicks.\n",
              "      quickchartButtonEl.classList.add('colab-df-spinner');\n",
              "      try {\n",
              "        const charts = await google.colab.kernel.invokeFunction(\n",
              "            'suggestCharts', [key], {});\n",
              "      } catch (error) {\n",
              "        console.error('Error during call to suggestCharts:', error);\n",
              "      }\n",
              "      quickchartButtonEl.classList.remove('colab-df-spinner');\n",
              "      quickchartButtonEl.classList.add('colab-df-quickchart-complete');\n",
              "    }\n",
              "    (() => {\n",
              "      let quickchartButtonEl =\n",
              "        document.querySelector('#df-073f377d-dee0-4811-9f1b-4e356fa7a89f button');\n",
              "      quickchartButtonEl.style.display =\n",
              "        google.colab.kernel.accessAllowed ? 'block' : 'none';\n",
              "    })();\n",
              "  </script>\n",
              "</div>\n",
              "\n",
              "    </div>\n",
              "  </div>\n"
            ],
            "application/vnd.google.colaboratory.intrinsic+json": {
              "type": "dataframe",
              "variable_name": "dataset_pandas",
              "summary": "{\n  \"name\": \"dataset_pandas\",\n  \"rows\": 21478,\n  \"fields\": [\n    {\n      \"column\": \"inputs\",\n      \"properties\": {\n        \"dtype\": \"object\",\n        \"semantic_type\": \"\",\n        \"description\": \"\"\n      }\n    },\n    {\n      \"column\": \"output\",\n      \"properties\": {\n        \"dtype\": \"object\",\n        \"semantic_type\": \"\",\n        \"description\": \"\"\n      }\n    }\n  ]\n}"
            }
          },
          "metadata": {},
          "execution_count": 32
        }
      ]
    },
    {
      "cell_type": "code",
      "execution_count": 36,
      "metadata": {
        "colab": {
          "base_uri": "https://localhost:8080/",
          "height": 453
        },
        "id": "uoINaHRIu_lO",
        "outputId": "75fc876a-e6c4-4222-b65b-10003b4bf33c"
      },
      "outputs": [
        {
          "output_type": "display_data",
          "data": {
            "text/plain": [
              "<Figure size 640x480 with 1 Axes>"
            ],
            "image/png": "[encoded data removed]"
          },
          "metadata": {}
        }
      ],
      "source": [
        "\n",
        "from matplotlib import pyplot as plt\n",
        "(dataset_pandas['output'].map(np.argmax)+1).plot(kind='hist', bins=12, title='Distribución de output')\n",
        "plt.gca().spines[['top', 'right',]].set_visible(False)"
      ]
    },
    {
      "cell_type": "markdown",
      "metadata": {
        "id": "dDdTp9YS1dXB"
      },
      "source": [
        "Preparacion de los datos para trabajar con la red. Se separa el split de la base de datos de la red propiamente dicha para que se entrene la red siempre con los mismos datos."
      ]
    },
    {
      "cell_type": "code",
      "execution_count": 37,
      "metadata": {
        "id": "PWo3zqVuG63Y"
      },
      "outputs": [],
      "source": [
        "\n",
        "\n",
        "# Extraemos los datos de entrada y de salida\n",
        "inputs = np.array(dataset_pandas['inputs'].tolist())\n",
        "output = np.array(dataset_pandas['output'].tolist())\n",
        "\n",
        "\n",
        "# Separar un conjunto de datos para entrenar y otro para probar\n",
        "x_train, x_test, y_train, y_test = train_test_split(inputs, output, test_size=1/3)"
      ]
    },
    {
      "cell_type": "code",
      "source": [
        "x_train"
      ],
      "metadata": {
        "colab": {
          "base_uri": "https://localhost:8080/"
        },
        "id": "9Vtyuc291n4i",
        "outputId": "b5c8884a-3110-4263-8d9a-0db2d9845b3d"
      },
      "execution_count": 38,
      "outputs": [
        {
          "output_type": "execute_result",
          "data": {
            "text/plain": [
              "array([[0.167, 0.167, 0.417, ..., 0.75 , 1.   , 1.   ],\n",
              "       [0.5  , 0.833, 0.25 , ..., 0.5  , 0.917, 0.5  ],\n",
              "       [0.5  , 0.25 , 0.25 , ..., 0.5  , 0.25 , 0.917],\n",
              "       ...,\n",
              "       [0.417, 1.   , 0.667, ..., 0.417, 0.417, 0.417],\n",
              "       [0.917, 0.5  , 0.25 , ..., 0.667, 0.667, 0.333],\n",
              "       [0.917, 0.167, 0.667, ..., 0.833, 0.833, 0.583]])"
            ]
          },
          "metadata": {},
          "execution_count": 38
        }
      ]
    },
    {
      "cell_type": "code",
      "source": [
        "y_train"
      ],
      "metadata": {
        "colab": {
          "base_uri": "https://localhost:8080/"
        },
        "id": "9sQXQsJC13ev",
        "outputId": "b7d68fcd-490d-4491-b3c4-49afed972100"
      },
      "execution_count": 39,
      "outputs": [
        {
          "output_type": "execute_result",
          "data": {
            "text/plain": [
              "array([[0, 0, 0, ..., 0, 0, 0],\n",
              "       [0, 0, 0, ..., 0, 0, 0],\n",
              "       [0, 0, 0, ..., 0, 1, 0],\n",
              "       ...,\n",
              "       [0, 0, 0, ..., 1, 0, 0],\n",
              "       [0, 0, 0, ..., 0, 0, 0],\n",
              "       [0, 0, 0, ..., 1, 0, 0]])"
            ]
          },
          "metadata": {},
          "execution_count": 39
        }
      ]
    },
    {
      "cell_type": "markdown",
      "metadata": {
        "id": "jD9LIHoDG63Y"
      },
      "source": [
        "Se inicializan las variables y se definen las funciones para el entrenamiento de la red. Se deja todo optimo para entrenar la red."
      ]
    },
    {
      "cell_type": "code",
      "execution_count": 40,
      "metadata": {
        "id": "8K5rzTxS1m8L"
      },
      "outputs": [],
      "source": [
        "# Pesos y sesgos\n",
        "w_hidden = np.random.rand(60, 100) * 2 - 1\n",
        "w_output = np.random.rand(12, 60) * 2 - 1\n",
        "b_hidden = np.random.rand(60, 1) * 2 - 1\n",
        "b_output = np.random.rand(12, 1) * 2 - 1\n",
        "\n",
        "# Funcion de activacion y la derivada\n",
        "def softmax(x):\n",
        "    shiftx = x - np.max(x)\n",
        "    exps = np.exp(shiftx)\n",
        "    return exps / np.sum(exps)\n",
        "\n",
        "def d_softmax(x):\n",
        "    Sx = softmax(x)\n",
        "    D = -np.outer(Sx, Sx) + np.diag(Sx.flatten())\n",
        "    return D\n",
        "\n",
        "def xent(pred, y):\n",
        "    assert(pred.shape == y.shape)\n",
        "    return -np.sum(y * np.log(pred + 10**-100))\n",
        "\n",
        "def d_xent(y, pred):\n",
        "    return -y/(pred + 10**-100)\n",
        "\n",
        "relu = lambda x: np.where(x > 0, x, 0.01 * x)\n",
        "d_relu = lambda x: np.where(x > 0, 1, 0.01)\n",
        "\n",
        "# Forward Propagation, recorrer la red hacia adelante\n",
        "def forward_prop(x):\n",
        "\tz1 = np.matmul(w_hidden, x).reshape((60,1)) + b_hidden\n",
        "\ta1 = relu(z1)\n",
        "\tz2 = np.matmul(w_output, a1) + b_output\n",
        "\ta2 = softmax(z2)\n",
        "\treturn z1, a1, z2, a2\n",
        "\n",
        "# Backpropagation, recorrer la red hacia atras\n",
        "def backward_prop(z1, a1, z2, a2, x, y):\n",
        "\n",
        "  error_upto_softmax = np.sum(d_xent(y, a2) * d_softmax(z2), axis = 0).reshape((-1, 1))\n",
        "  error_upto_hidden = np.sum(error_upto_softmax * w_output, axis = 0).reshape((-1, 1))\n",
        "  error_upto_relu = error_upto_hidden * d_relu(z1)\n",
        "\n",
        "  dc_dw2 = error_upto_softmax.dot( a1.T )\n",
        "  dc_db2 = error_upto_softmax\n",
        "  dc_dw1 = error_upto_relu.dot( x.T )\n",
        "  dc_db1 = error_upto_relu\n",
        "\n",
        "  return dc_dw1, dc_db1, dc_dw2, dc_db2"
      ]
    },
    {
      "cell_type": "markdown",
      "metadata": {
        "id": "3c1rkDRIG63Z"
      },
      "source": [
        "Se define el calculo de precision para el test y el train. Tambien se calcula el accuracy antes de entrenar la red."
      ]
    },
    {
      "cell_type": "code",
      "execution_count": 41,
      "metadata": {
        "id": "RDwvHBzM6Psd"
      },
      "outputs": [],
      "source": [
        "# Calculo de precision, calculo muchas precisiones individuales y las promedio.\n",
        "def calcular_accuracy():\n",
        "  accuracy_train = 0\n",
        "  accuracy_test = 0\n",
        "  np.set_printoptions(precision=5, suppress=False)\n",
        "  iters = 2500\n",
        "  for i in range(iters):\n",
        "    idx = np.random.randint(0, len(x_test))\n",
        "    test_predictions = np.argmax(forward_prop(x_test[idx].T)[3])+1\n",
        "    accuracy_individual_test =  np.argmax(y_test[idx])+1 == test_predictions\n",
        "    accuracy_test += accuracy_individual_test\n",
        "\n",
        "    jdx = np.random.randint(0, len(x_train))\n",
        "    train_predictions = np.argmax(forward_prop(x_train[jdx].T)[3])+1\n",
        "    accuracy_individual_train =  np.argmax(y_train[jdx])+1 == train_predictions\n",
        "    accuracy_train += accuracy_individual_train\n",
        "\n",
        "  return accuracy_test, accuracy_train, iters\n",
        "\n",
        "# Se muestra el valor del accuracy antes del entrenamiento\n",
        "valor_test, valor_train, intentos = calcular_accuracy()"
      ]
    },
    {
      "cell_type": "code",
      "source": [
        "print(f'Accuracy Test = {round((valor_test/intentos*100),3)}%')\n",
        "print(f'Accuracy Train = {round((valor_train/intentos*100),3)}%')"
      ],
      "metadata": {
        "id": "uZ3xgpawuVLn",
        "outputId": "a57bc400-61be-4a04-cfdd-a0d2af8b8829",
        "colab": {
          "base_uri": "https://localhost:8080/"
        }
      },
      "execution_count": 43,
      "outputs": [
        {
          "output_type": "stream",
          "name": "stdout",
          "text": [
            "Accuracy Test = 11.32%\n",
            "Accuracy Train = 11.04%\n"
          ]
        }
      ]
    },
    {
      "cell_type": "markdown",
      "metadata": {
        "id": "IHIlzs91G63a"
      },
      "source": [
        "Se arma la funcion que grafica los valores de loss (diferencia entre valor real y obtenido)"
      ]
    },
    {
      "cell_type": "code",
      "execution_count": 44,
      "metadata": {
        "id": "Df-dfeANG63b"
      },
      "outputs": [],
      "source": [
        "def graficar_loss(L, train_l, test_l):\n",
        "    #print(train_l)\n",
        "    #print(test_l)\n",
        "    iters = len(test_l)\n",
        "    fmt_train = {\n",
        "        'color': 'tab:blue',\n",
        "        'ls': 'solid',\n",
        "        'lw': 3,\n",
        "    }\n",
        "    fmt_test = {\n",
        "        'color': 'tab:orange',\n",
        "        'ls': 'solid',\n",
        "        'lw': 3,\n",
        "    }\n",
        "\n",
        "    fig, (ax) = plt.subplots(1, 1, figsize = (10, 8))\n",
        "\n",
        "    ax.plot(train_l, label = 'Train', **fmt_train)\n",
        "    ax.plot(test_l, label = 'Test', **fmt_test)\n",
        "\n",
        "    ax.grid(which='both')\n",
        "    ax.legend()\n",
        "    ax.set_title(f'Loss {L=}')\n",
        "    ax.set_xlabel(f'Iters {iters=}')\n",
        "    ax.set_ylabel('Loss')\n",
        "\n",
        "    fig.tight_layout()\n",
        "    plt.savefig(f'accuracy_{L=}_{iters=}.png')"
      ]
    },
    {
      "cell_type": "markdown",
      "metadata": {
        "id": "ElE09jZh1xOq"
      },
      "source": [
        "Se arma la funcion que calcula el loss utilizando entropía cruzada\n"
      ]
    },
    {
      "cell_type": "code",
      "source": [
        "def calcular_loss():\n",
        "  loss_train = 0\n",
        "  loss_test = 0\n",
        "  np.set_printoptions(precision=5, suppress=False)\n",
        "  iters = 2500\n",
        "  for i in range(iters):\n",
        "    idx = np.random.randint(0, len(x_test))\n",
        "    test_predictions = forward_prop(x_test[idx].T)[3]\n",
        "    loss_individual_test =  xent(test_predictions, y_test[idx].reshape(12,1))\n",
        "    loss_test += loss_individual_test\n",
        "\n",
        "    jdx = np.random.randint(0, len(x_train))\n",
        "    train_predictions = forward_prop(x_train[jdx].T)[3]\n",
        "    loss_individual_train =  xent(train_predictions, y_train[jdx].reshape(12,1))\n",
        "    loss_train += loss_individual_train\n",
        "\n",
        "  return loss_test/iters, loss_train/iters\n",
        "\n"
      ],
      "metadata": {
        "id": "7ppJ0hauk5oQ"
      },
      "execution_count": 45,
      "outputs": []
    },
    {
      "cell_type": "markdown",
      "source": [
        "Se muestra el valor del accuracy y loss antes del entrenamiento."
      ],
      "metadata": {
        "id": "eryZfs8370qz"
      }
    },
    {
      "cell_type": "code",
      "source": [
        "  loss_test, loss_train = calcular_loss()\n",
        "  print(f'Loss test: {loss_test}')\n",
        "  print(f'Loss train: {loss_train}')\n",
        "  val_test, val_train, intentos = calcular_accuracy()\n",
        "  print(f'Accuracy Test = {round((val_test/intentos*100),3)}%')\n",
        "  print(f'Accuracy Train = {round((val_train/intentos*100),3)}%')"
      ],
      "metadata": {
        "colab": {
          "base_uri": "https://localhost:8080/"
        },
        "id": "eVMg4JV96-9i",
        "outputId": "4568a035-8665-4af2-efb7-a31e92d18e9d"
      },
      "execution_count": 46,
      "outputs": [
        {
          "output_type": "stream",
          "name": "stdout",
          "text": [
            "Loss test: 23.2796874436172\n",
            "Loss train: 23.567270203669228\n",
            "Accuracy Test = 10.68%\n",
            "Accuracy Train = 9.88%\n"
          ]
        }
      ]
    },
    {
      "cell_type": "markdown",
      "source": [
        "Se define una funcion que contiene el entrenamiento de la red neuronal para asi encontrar los valores mas optimos para la misma. La red ya esta definida para la utilizacion de todas las variables y funciones declaradas anteriormente."
      ],
      "metadata": {
        "id": "QB2dVGON7wQl"
      }
    },
    {
      "cell_type": "code",
      "execution_count": 47,
      "metadata": {
        "id": "AWdbxm1u11ZS"
      },
      "outputs": [],
      "source": [
        "def red_neuronal (L, epoch, momentum, w_hidden, w_output, b_hidden, b_output,update_w1,update_b1,update_w2,update_b2):\n",
        "\n",
        "  loss_test_l = []\n",
        "  loss_train_l = []\n",
        "  # Ejecutar descenso de gradiente con inercia\n",
        "  for i in range(epoch):\n",
        "    # Seleccion aleatoria de unos de los datos de entrenamiento\n",
        "    idx = [np.random.randint(0,len(x_train))]\n",
        "    x_sample = x_train[idx].T\n",
        "    y_sample = y_train[idx].T\n",
        "\n",
        "    # Pasar los datos seleccionados a traves de la red\n",
        "    z1, a1, z2, a2 = forward_prop(x_sample)\n",
        "    # Distribuir el error a traves de la retro propagacion, devolver pendientes para pesos y sesgo\n",
        "    dw_hidden, db_hidden, dw_output, db_output = backward_prop(z1, a1, z2, a2, x_sample, y_sample)\n",
        "\n",
        "    # Actualizar pesos y sesgos y sus respectivas inercias\n",
        "\n",
        "    update_w1 = -L * dw_hidden + momentum * update_w1\n",
        "    update_b1 = -L * db_hidden + momentum * update_b1\n",
        "    update_w2 = -L * dw_output + momentum * update_w2\n",
        "    update_b2 = -L * db_output + momentum * update_b2\n",
        "\n",
        "    w_hidden += update_w1\n",
        "    b_hidden += update_b1\n",
        "    w_output += update_w2\n",
        "    b_output += update_b2\n",
        "\n",
        "    loss_test, loss_train = calcular_loss()\n",
        "    loss_test_l.append(loss_test)\n",
        "    loss_train_l.append(loss_train)\n",
        "\n",
        "  graficar_loss(L=L,train_l=loss_train_l, test_l=loss_test_l)\n"
      ]
    },
    {
      "cell_type": "markdown",
      "metadata": {
        "id": "bgOTQIkKG63b"
      },
      "source": [
        "Ahora pruebo la red neuronal, modificando las variables de la taza de aprendizaje y las iteraciones que da."
      ]
    },
    {
      "cell_type": "code",
      "execution_count": 60,
      "metadata": {
        "id": "6kpgbiYaG63c",
        "colab": {
          "base_uri": "https://localhost:8080/",
          "height": 883
        },
        "outputId": "5992dee9-456c-4f39-ffe3-90f6f44aafc0"
      },
      "outputs": [
        {
          "output_type": "stream",
          "name": "stdout",
          "text": [
            "L = 0.001\n",
            "Loss test: 2.588108407416725\n",
            "Loss train: 2.5880563010706576\n",
            "Accuracy Test = 9.2%\n",
            "Accuracy Train = 8.28%\n"
          ]
        },
        {
          "output_type": "display_data",
          "data": {
            "text/plain": [
              "<Figure size 1000x800 with 1 Axes>"
            ],
            "image/png": "[encoded data removed]"
          },
          "metadata": {}
        }
      ],
      "source": [
        "iter = 1500  #, 1_000, 10_000\n",
        "L_l = [0.001]#, 0.01, 0.005, 0.001]\n",
        "momentum = 0.9\n",
        "\n",
        "\n",
        "w_hidden = np.random.rand(60, 100) * 2 - 1\n",
        "w_output = np.random.rand(12, 60) * 2 - 1\n",
        "b_hidden = np.random.rand(60, 1) * 2 - 1\n",
        "b_output = np.random.rand(12, 1) * 2 - 1\n",
        "\n",
        "update_w1 = np.zeros(w_hidden.shape)\n",
        "update_b1 = np.zeros(b_hidden.shape)\n",
        "update_w2 = np.zeros(w_output.shape)\n",
        "update_b2 = np.zeros(b_output.shape)\n",
        "\n",
        "w_h_test, w_o_test, b_h_test, b_o_test = w_hidden, w_output, b_hidden, b_output\n",
        "\n",
        "for L in L_l:\n",
        "  w_hidden = w_h_test\n",
        "  w_output = w_o_test\n",
        "  b_hidden = b_h_test\n",
        "  b_output = b_o_test\n",
        "\n",
        "  update_w1 = np.zeros(w_hidden.shape)\n",
        "  update_b1 = np.zeros(b_hidden.shape)\n",
        "  update_w2 = np.zeros(w_output.shape)\n",
        "  update_b2 = np.zeros(b_output.shape)\n",
        "\n",
        "  red_neuronal(L=L, epoch=iter, momentum=momentum,\n",
        "                w_hidden=w_hidden, w_output=w_output,\n",
        "                b_hidden=b_hidden, b_output=b_output,\n",
        "                update_w1=update_w1,update_b1=update_b1,\n",
        "                update_w2=update_w2,update_b2=update_b2)\n",
        "  print(f'L = {L}')\n",
        "  loss_test, loss_train = calcular_loss()\n",
        "  print(f'Loss test: {loss_test}')\n",
        "  print(f'Loss train: {loss_train}')\n",
        "  val_test, val_train, intentos = calcular_accuracy()\n",
        "  print(f'Accuracy Test = {round((val_test/intentos*100),3)}%')\n",
        "  print(f'Accuracy Train = {round((val_train/intentos*100),3)}%')\n",
        "\n",
        "      # Calculo la precision y por cada iteracion la guardo para realizar el grafico"
      ]
    },
    {
      "cell_type": "markdown",
      "metadata": {
        "id": "0g8dPfc4cpFd"
      },
      "source": [
        "Calculo de precision despues del entrenamiento"
      ]
    },
    {
      "cell_type": "code",
      "execution_count": 63,
      "metadata": {
        "id": "k1zCwdqacpXJ",
        "colab": {
          "base_uri": "https://localhost:8080/"
        },
        "outputId": "b0d87354-0018-48fb-881f-e91fa3d5e8a8"
      },
      "outputs": [
        {
          "output_type": "stream",
          "name": "stdout",
          "text": [
            "Loss test: 2.602904151610491\n",
            "Loss train: 2.5732189444029543\n",
            "Accuracy Test = 9.44%\n",
            "Accuracy Train = 9.8%\n"
          ]
        }
      ],
      "source": [
        "  loss_test, loss_train = calcular_loss()\n",
        "  print(f'Loss test: {loss_test}')\n",
        "  print(f'Loss train: {loss_train}')\n",
        "  val_test, val_train, intentos = calcular_accuracy()\n",
        "  print(f'Accuracy Test = {round((val_test/intentos*100),3)}%')\n",
        "  print(f'Accuracy Train = {round((val_train/intentos*100),3)}%')"
      ]
    }
  ],
  "metadata": {
    "colab": {
      "provenance": []
    },
    "kernelspec": {
      "display_name": "Python 3",
      "language": "python",
      "name": "python3"
    },
    "language_info": {
      "codemirror_mode": {
        "name": "python",
        "version": 3
      },
      "file_extension": ".py",
      "mimetype": "text/x-python",
      "name": "python",
      "nbconvert_exporter": "python",
      "pygments_lexer": "ipython3",
      "version": "3.12.2"
    }
  },
  "nbformat": 4,
  "nbformat_minor": 0
}
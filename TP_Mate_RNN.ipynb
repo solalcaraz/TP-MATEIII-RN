{
  "metadata": {
    "kernelspec": {
      "name": "python",
      "display_name": "Python (Pyodide)",
      "language": "python"
    },
    "language_info": {
      "codemirror_mode": {
        "name": "python",
        "version": 3
      },
      "file_extension": ".py",
      "mimetype": "text/x-python",
      "name": "python",
      "nbconvert_exporter": "python",
      "pygments_lexer": "ipython3",
      "version": "3.8"
    },
    "colab": {
      "provenance": [],
      "include_colab_link": true
    }
  },
  "nbformat_minor": 0,
  "nbformat": 4,
  "cells": [
    {
      "cell_type": "markdown",
      "metadata": {
        "id": "view-in-github",
        "colab_type": "text"
      },
      "source": [
        "<a href=\"https://colab.research.google.com/github/solalcaraz/TP-MATEIII-RN/blob/main/TP_Mate_RNN.ipynb\" target=\"_parent\"><img src=\"https://colab.research.google.com/assets/colab-badge.svg\" alt=\"Open In Colab\"/></a>"
      ]
    },
    {
      "cell_type": "markdown",
      "source": [
        "# RED NEURONAL.\n",
        "\n",
        "El armado de esta red neuronal pretende predecir la siguiente nota.\n",
        "\n",
        "La base de datos elegida es un conjunto de datos que contiene alrededor de 200hs de grabaciones de audio y MIDI emparejadas de diez años de Concurso Internacional de Piano.\n",
        "\n",
        "FUENTE: https://magenta.tensorflow.org/datasets/maestro"
      ],
      "metadata": {
        "id": "79M9fZynpFr9"
      }
    },
    {
      "cell_type": "code",
      "source": [
        "# import zipfile as zf\n",
        "# files = zf.ZipFile(\"/content/maestro-v3.0.0-midi.zip\", 'r')\n",
        "# files.extractall('data/')\n",
        "# files.close()\n",
        "!pip install pretty_midi\n",
        "!pip install tensorflow\n",
        "!pip install scikit-learn"
      ],
      "metadata": {
        "trusted": true,
        "colab": {
          "base_uri": "https://localhost:8080/"
        },
        "id": "HQahjYI4zzBx",
        "outputId": "ca3e60fc-50d9-4626-abd9-fba90cee3f87"
      },
      "outputs": [
        {
          "output_type": "stream",
          "name": "stdout",
          "text": [
            "Requirement already satisfied: pretty_midi in /usr/local/lib/python3.10/dist-packages (0.2.10)\n",
            "Requirement already satisfied: numpy>=1.7.0 in /usr/local/lib/python3.10/dist-packages (from pretty_midi) (1.25.2)\n",
            "Requirement already satisfied: mido>=1.1.16 in /usr/local/lib/python3.10/dist-packages (from pretty_midi) (1.3.2)\n",
            "Requirement already satisfied: six in /usr/local/lib/python3.10/dist-packages (from pretty_midi) (1.16.0)\n",
            "Requirement already satisfied: packaging~=23.1 in /usr/local/lib/python3.10/dist-packages (from mido>=1.1.16->pretty_midi) (23.2)\n",
            "Requirement already satisfied: tensorflow in /usr/local/lib/python3.10/dist-packages (2.15.0)\n",
            "Requirement already satisfied: absl-py>=1.0.0 in /usr/local/lib/python3.10/dist-packages (from tensorflow) (1.4.0)\n",
            "Requirement already satisfied: astunparse>=1.6.0 in /usr/local/lib/python3.10/dist-packages (from tensorflow) (1.6.3)\n",
            "Requirement already satisfied: flatbuffers>=23.5.26 in /usr/local/lib/python3.10/dist-packages (from tensorflow) (24.3.25)\n",
            "Requirement already satisfied: gast!=0.5.0,!=0.5.1,!=0.5.2,>=0.2.1 in /usr/local/lib/python3.10/dist-packages (from tensorflow) (0.5.4)\n",
            "Requirement already satisfied: google-pasta>=0.1.1 in /usr/local/lib/python3.10/dist-packages (from tensorflow) (0.2.0)\n",
            "Requirement already satisfied: h5py>=2.9.0 in /usr/local/lib/python3.10/dist-packages (from tensorflow) (3.9.0)\n",
            "Requirement already satisfied: libclang>=13.0.0 in /usr/local/lib/python3.10/dist-packages (from tensorflow) (18.1.1)\n",
            "Requirement already satisfied: ml-dtypes~=0.2.0 in /usr/local/lib/python3.10/dist-packages (from tensorflow) (0.2.0)\n",
            "Requirement already satisfied: numpy<2.0.0,>=1.23.5 in /usr/local/lib/python3.10/dist-packages (from tensorflow) (1.25.2)\n",
            "Requirement already satisfied: opt-einsum>=2.3.2 in /usr/local/lib/python3.10/dist-packages (from tensorflow) (3.3.0)\n",
            "Requirement already satisfied: packaging in /usr/local/lib/python3.10/dist-packages (from tensorflow) (23.2)\n",
            "Requirement already satisfied: protobuf!=4.21.0,!=4.21.1,!=4.21.2,!=4.21.3,!=4.21.4,!=4.21.5,<5.0.0dev,>=3.20.3 in /usr/local/lib/python3.10/dist-packages (from tensorflow) (3.20.3)\n",
            "Requirement already satisfied: setuptools in /usr/local/lib/python3.10/dist-packages (from tensorflow) (67.7.2)\n",
            "Requirement already satisfied: six>=1.12.0 in /usr/local/lib/python3.10/dist-packages (from tensorflow) (1.16.0)\n",
            "Requirement already satisfied: termcolor>=1.1.0 in /usr/local/lib/python3.10/dist-packages (from tensorflow) (2.4.0)\n",
            "Requirement already satisfied: typing-extensions>=3.6.6 in /usr/local/lib/python3.10/dist-packages (from tensorflow) (4.11.0)\n",
            "Requirement already satisfied: wrapt<1.15,>=1.11.0 in /usr/local/lib/python3.10/dist-packages (from tensorflow) (1.14.1)\n",
            "Requirement already satisfied: tensorflow-io-gcs-filesystem>=0.23.1 in /usr/local/lib/python3.10/dist-packages (from tensorflow) (0.37.0)\n",
            "Requirement already satisfied: grpcio<2.0,>=1.24.3 in /usr/local/lib/python3.10/dist-packages (from tensorflow) (1.64.0)\n",
            "Requirement already satisfied: tensorboard<2.16,>=2.15 in /usr/local/lib/python3.10/dist-packages (from tensorflow) (2.15.2)\n",
            "Requirement already satisfied: tensorflow-estimator<2.16,>=2.15.0 in /usr/local/lib/python3.10/dist-packages (from tensorflow) (2.15.0)\n",
            "Requirement already satisfied: keras<2.16,>=2.15.0 in /usr/local/lib/python3.10/dist-packages (from tensorflow) (2.15.0)\n",
            "Requirement already satisfied: wheel<1.0,>=0.23.0 in /usr/local/lib/python3.10/dist-packages (from astunparse>=1.6.0->tensorflow) (0.43.0)\n",
            "Requirement already satisfied: google-auth<3,>=1.6.3 in /usr/local/lib/python3.10/dist-packages (from tensorboard<2.16,>=2.15->tensorflow) (2.27.0)\n",
            "Requirement already satisfied: google-auth-oauthlib<2,>=0.5 in /usr/local/lib/python3.10/dist-packages (from tensorboard<2.16,>=2.15->tensorflow) (1.2.0)\n",
            "Requirement already satisfied: markdown>=2.6.8 in /usr/local/lib/python3.10/dist-packages (from tensorboard<2.16,>=2.15->tensorflow) (3.6)\n",
            "Requirement already satisfied: requests<3,>=2.21.0 in /usr/local/lib/python3.10/dist-packages (from tensorboard<2.16,>=2.15->tensorflow) (2.31.0)\n",
            "Requirement already satisfied: tensorboard-data-server<0.8.0,>=0.7.0 in /usr/local/lib/python3.10/dist-packages (from tensorboard<2.16,>=2.15->tensorflow) (0.7.2)\n",
            "Requirement already satisfied: werkzeug>=1.0.1 in /usr/local/lib/python3.10/dist-packages (from tensorboard<2.16,>=2.15->tensorflow) (3.0.3)\n",
            "Requirement already satisfied: cachetools<6.0,>=2.0.0 in /usr/local/lib/python3.10/dist-packages (from google-auth<3,>=1.6.3->tensorboard<2.16,>=2.15->tensorflow) (5.3.3)\n",
            "Requirement already satisfied: pyasn1-modules>=0.2.1 in /usr/local/lib/python3.10/dist-packages (from google-auth<3,>=1.6.3->tensorboard<2.16,>=2.15->tensorflow) (0.4.0)\n",
            "Requirement already satisfied: rsa<5,>=3.1.4 in /usr/local/lib/python3.10/dist-packages (from google-auth<3,>=1.6.3->tensorboard<2.16,>=2.15->tensorflow) (4.9)\n",
            "Requirement already satisfied: requests-oauthlib>=0.7.0 in /usr/local/lib/python3.10/dist-packages (from google-auth-oauthlib<2,>=0.5->tensorboard<2.16,>=2.15->tensorflow) (1.3.1)\n",
            "Requirement already satisfied: charset-normalizer<4,>=2 in /usr/local/lib/python3.10/dist-packages (from requests<3,>=2.21.0->tensorboard<2.16,>=2.15->tensorflow) (3.3.2)\n",
            "Requirement already satisfied: idna<4,>=2.5 in /usr/local/lib/python3.10/dist-packages (from requests<3,>=2.21.0->tensorboard<2.16,>=2.15->tensorflow) (3.7)\n",
            "Requirement already satisfied: urllib3<3,>=1.21.1 in /usr/local/lib/python3.10/dist-packages (from requests<3,>=2.21.0->tensorboard<2.16,>=2.15->tensorflow) (2.0.7)\n",
            "Requirement already satisfied: certifi>=2017.4.17 in /usr/local/lib/python3.10/dist-packages (from requests<3,>=2.21.0->tensorboard<2.16,>=2.15->tensorflow) (2024.2.2)\n",
            "Requirement already satisfied: MarkupSafe>=2.1.1 in /usr/local/lib/python3.10/dist-packages (from werkzeug>=1.0.1->tensorboard<2.16,>=2.15->tensorflow) (2.1.5)\n",
            "Requirement already satisfied: pyasn1<0.7.0,>=0.4.6 in /usr/local/lib/python3.10/dist-packages (from pyasn1-modules>=0.2.1->google-auth<3,>=1.6.3->tensorboard<2.16,>=2.15->tensorflow) (0.6.0)\n",
            "Requirement already satisfied: oauthlib>=3.0.0 in /usr/local/lib/python3.10/dist-packages (from requests-oauthlib>=0.7.0->google-auth-oauthlib<2,>=0.5->tensorboard<2.16,>=2.15->tensorflow) (3.2.2)\n",
            "Requirement already satisfied: scikit-learn in /usr/local/lib/python3.10/dist-packages (1.2.2)\n",
            "Requirement already satisfied: numpy>=1.17.3 in /usr/local/lib/python3.10/dist-packages (from scikit-learn) (1.25.2)\n",
            "Requirement already satisfied: scipy>=1.3.2 in /usr/local/lib/python3.10/dist-packages (from scikit-learn) (1.11.4)\n",
            "Requirement already satisfied: joblib>=1.1.1 in /usr/local/lib/python3.10/dist-packages (from scikit-learn) (1.4.2)\n",
            "Requirement already satisfied: threadpoolctl>=2.0.0 in /usr/local/lib/python3.10/dist-packages (from scikit-learn) (3.5.0)\n"
          ]
        }
      ],
      "execution_count": null
    },
    {
      "cell_type": "markdown",
      "source": [
        "Se instalan todos los paquetes relevantes para procesar y escuchar archivos MIDI, glob para iterar sobre los archivos del dataset, collections para el diccionario con valor por defecto, y pathlib para abrir el archivo."
      ],
      "metadata": {
        "id": "NCReHdbOzzBz"
      }
    },
    {
      "cell_type": "code",
      "source": [
        "import collections\n",
        "import glob\n",
        "import numpy as np\n",
        "import pathlib\n",
        "import pandas as pd\n",
        "import pretty_midi\n",
        "import tensorflow as tf\n",
        "from sklearn.model_selection import train_test_split"
      ],
      "metadata": {
        "trusted": true,
        "id": "YpceBp8_zzB1"
      },
      "outputs": [],
      "execution_count": null
    },
    {
      "cell_type": "markdown",
      "source": [
        "Se define un directorio que contendra todos los archivos MIDI que seran analizados. Se arma una funcion que convierte esos archivos a un DataFrame de pandas donde utilizamos una variable para definir una \"nota\" que contendra como caracteristica el tono (pitch). Tono es la calidad sonora de la nota, lo que la distingue de otras."
      ],
      "metadata": {
        "id": "ORs0ge5bzzB1"
      }
    },
    {
      "cell_type": "code",
      "source": [
        "#directorio = pathlib.Path('/content/ArchivosMIDI')\n",
        "if not directorio.exists():\n",
        "  tf.keras.utils.get_file(\n",
        "      'maestro-v2.0.0-midi.zip',\n",
        "      origin='https://storage.googleapis.com/magentadata/datasets/maestro/v2.0.0/maestro-v2.0.0-midi.zip',\n",
        "      extract=True,\n",
        "      cache_dir='.', cache_subdir='data',\n",
        "  )\n",
        "\n",
        "filenames = glob.glob(str(directorio/'*.mid*'))\n",
        "print('num archivos:', len(filenames))\n",
        "\n",
        "# sample_file = \"/content/MIDI-Unprocessed_25_R2_2011_MID--AUDIO_R2-D6_07_Track07_wav.midi\"\n",
        "# print(sample_file)\n",
        "\n",
        "def midi_a_notas(midifile: str) -> pd.DataFrame:\n",
        "    pm = pretty_midi.PrettyMIDI(midifile)\n",
        "    instrumento = pm.instruments[0]\n",
        "    notas = collections.defaultdict(list)\n",
        "\n",
        "    notas_orden = sorted(instrumento.notes, key=lambda nota: nota.start)\n",
        "    previa_inicio = notas_orden[0].start\n",
        "\n",
        "    for nota in notas_orden:\n",
        "        notas['pitch'].append(nota.pitch)\n",
        "\n",
        "    return pd.DataFrame({nombre: np.array(valor) for nombre, valor in notas.items()})"
      ],
      "metadata": {
        "trusted": true,
        "id": "nH-UBIUtzzCI",
        "colab": {
          "base_uri": "https://localhost:8080/"
        },
        "outputId": "c915fb7b-89de-4fa5-c379-164685ec1e4c"
      },
      "outputs": [
        {
          "output_type": "stream",
          "name": "stdout",
          "text": [
            "num archivos: 105\n"
          ]
        }
      ],
      "execution_count": 183
    },
    {
      "cell_type": "markdown",
      "source": [
        "Se agrega un fragmento de codigo hecho por otra persona, que permite escribir un dataframe con notas en un archivo midi y lo devuelve como prettyMIDI para poder escucharlo (No se usa):"
      ],
      "metadata": {
        "id": "zCPieVI_zzCI"
      }
    },
    {
      "cell_type": "code",
      "source": [
        "def notes_to_midi(\n",
        "  notes: pd.DataFrame,\n",
        "  out_file: str,\n",
        "  instrument_name: str,\n",
        "  velocity: int = 100,  # note loudness\n",
        ") -> pretty_midi.PrettyMIDI:\n",
        "\n",
        "  pm = pretty_midi.PrettyMIDI()\n",
        "  instrument = pretty_midi.Instrument(\n",
        "      program=pretty_midi.instrument_name_to_program(\n",
        "          instrument_name))\n",
        "\n",
        "  prev_start = 0\n",
        "  for i, note in notes.iterrows():\n",
        "    start = float(prev_start + note['step'])\n",
        "    end = float(start + note['duration'])\n",
        "    note = pretty_midi.Note(\n",
        "        velocity=velocity,\n",
        "        pitch=int(note['pitch']),\n",
        "        start=start,\n",
        "        end=end,\n",
        "    )\n",
        "    instrument.notes.append(note)\n",
        "    prev_start = start\n",
        "\n",
        "  pm.instruments.append(instrument)\n",
        "  pm.write(out_file)\n",
        "  return pm"
      ],
      "metadata": {
        "trusted": true,
        "id": "-PeuOiUxzzCJ"
      },
      "outputs": [],
      "execution_count": 176
    },
    {
      "cell_type": "markdown",
      "source": [
        "Se procesan los archivos MIDI, se extraen las notas de cada archivo y se preparan los datos para el modelo del aprendizaje automatico mas adelante."
      ],
      "metadata": {
        "id": "8v8T0lcpgFfe"
      }
    },
    {
      "cell_type": "code",
      "source": [
        "notasGlobal = []\n",
        "tam_muestra = 10\n",
        "\n",
        "for f in filenames[:tam_muestra]:\n",
        "  notas = midi_a_notas(f)\n",
        "  notasGlobal.append(notas)\n",
        "\n",
        "notasGlobal = pd.concat(notasGlobal)\n",
        "print(notasGlobal.head())\n",
        "\n",
        "indice_notas = ['pitch']\n",
        "notas_entrenamiento = np.array([notasGlobal[key] for key in indice_notas]).flatten()\n",
        "np.set_printoptions(precision=3)\n",
        "dataset_nota = tf.data.Dataset.from_tensor_slices(notas_entrenamiento)\n",
        "print(notas_entrenamiento)\n",
        "#print(list(dataset_nota.as_numpy_iterator()))"
      ],
      "metadata": {
        "trusted": true,
        "colab": {
          "base_uri": "https://localhost:8080/"
        },
        "id": "pj2yutyNzzCJ",
        "outputId": "c1320bcb-7e30-41d9-faee-9c27ada559f0"
      },
      "outputs": [
        {
          "output_type": "stream",
          "name": "stdout",
          "text": [
            "   pitch\n",
            "0     40\n",
            "1     39\n",
            "2     40\n",
            "3     40\n",
            "4     40\n",
            "[40 39 40 ... 31 26 31]\n"
          ]
        }
      ],
      "execution_count": 184
    },
    {
      "cell_type": "markdown",
      "source": [
        "Luego, transformamos el dataset de las notas en ventanas de secuencias para su uso."
      ],
      "metadata": {
        "id": "4lARgNBmgWoq"
      }
    },
    {
      "cell_type": "code",
      "source": [
        "def ventanizar(dataset, tam_ventana, alfabeto_notas = 128,) -> tf.data.Dataset:\n",
        "  tam_ventana = tam_ventana + 1\n",
        "\n",
        "  windows = dataset.window(tam_ventana, shift=1, stride=1, drop_remainder=True)\n",
        "  flatten = lambda x: x.batch(tam_ventana, drop_remainder=True)\n",
        "  sequences = windows.flat_map(flatten)\n",
        "\n",
        "  # Normalize tono de las notas\n",
        "  def normalizar_tono(x):\n",
        "    x = x/tam_ventana\n",
        "    return x\n",
        "\n",
        "  # Partimos los indices\n",
        "  def partir_indices(sequences):\n",
        "    inputs = sequences[:-1]\n",
        "    outputs_dense = sequences[-1]\n",
        "    return normalizar_tono(inputs), outputs_dense\n",
        "  return sequences.map(partir_indices,num_parallel_calls=tf.data.AUTOTUNE)\n",
        "\n",
        "ventanitas = ventanizar(dataset_nota, 100)\n",
        "dataset_pandas = pd.DataFrame(list(ventanitas.as_numpy_iterator()), columns=['inputs','output'])\n",
        "dataset_pandas.head()"
      ],
      "metadata": {
        "trusted": true,
        "id": "k_IG3KLnzzCK",
        "colab": {
          "base_uri": "https://localhost:8080/",
          "height": 206
        },
        "outputId": "bc0e5920-7c6e-4a1d-cc9d-df2d6d8c3f3f"
      },
      "outputs": [
        {
          "output_type": "execute_result",
          "data": {
            "text/plain": [
              "                                              inputs  output\n",
              "0  [0.39603960396039606, 0.38613861386138615, 0.3...      54\n",
              "1  [0.38613861386138615, 0.39603960396039606, 0.3...      47\n",
              "2  [0.39603960396039606, 0.39603960396039606, 0.3...      40\n",
              "3  [0.39603960396039606, 0.39603960396039606, 0.3...      61\n",
              "4  [0.39603960396039606, 0.39603960396039606, 0.3...      54"
            ],
            "text/html": [
              "\n",
              "  <div id=\"df-4f1afef5-de35-4962-8364-4f6e1ba9fcb3\" class=\"colab-df-container\">\n",
              "    <div>\n",
              "<style scoped>\n",
              "    .dataframe tbody tr th:only-of-type {\n",
              "        vertical-align: middle;\n",
              "    }\n",
              "\n",
              "    .dataframe tbody tr th {\n",
              "        vertical-align: top;\n",
              "    }\n",
              "\n",
              "    .dataframe thead th {\n",
              "        text-align: right;\n",
              "    }\n",
              "</style>\n",
              "<table border=\"1\" class=\"dataframe\">\n",
              "  <thead>\n",
              "    <tr style=\"text-align: right;\">\n",
              "      <th></th>\n",
              "      <th>inputs</th>\n",
              "      <th>output</th>\n",
              "    </tr>\n",
              "  </thead>\n",
              "  <tbody>\n",
              "    <tr>\n",
              "      <th>0</th>\n",
              "      <td>[0.39603960396039606, 0.38613861386138615, 0.3...</td>\n",
              "      <td>54</td>\n",
              "    </tr>\n",
              "    <tr>\n",
              "      <th>1</th>\n",
              "      <td>[0.38613861386138615, 0.39603960396039606, 0.3...</td>\n",
              "      <td>47</td>\n",
              "    </tr>\n",
              "    <tr>\n",
              "      <th>2</th>\n",
              "      <td>[0.39603960396039606, 0.39603960396039606, 0.3...</td>\n",
              "      <td>40</td>\n",
              "    </tr>\n",
              "    <tr>\n",
              "      <th>3</th>\n",
              "      <td>[0.39603960396039606, 0.39603960396039606, 0.3...</td>\n",
              "      <td>61</td>\n",
              "    </tr>\n",
              "    <tr>\n",
              "      <th>4</th>\n",
              "      <td>[0.39603960396039606, 0.39603960396039606, 0.3...</td>\n",
              "      <td>54</td>\n",
              "    </tr>\n",
              "  </tbody>\n",
              "</table>\n",
              "</div>\n",
              "    <div class=\"colab-df-buttons\">\n",
              "\n",
              "  <div class=\"colab-df-container\">\n",
              "    <button class=\"colab-df-convert\" onclick=\"convertToInteractive('df-4f1afef5-de35-4962-8364-4f6e1ba9fcb3')\"\n",
              "            title=\"Convert this dataframe to an interactive table.\"\n",
              "            style=\"display:none;\">\n",
              "\n",
              "  <svg xmlns=\"http://www.w3.org/2000/svg\" height=\"24px\" viewBox=\"0 -960 960 960\">\n",
              "    <path d=\"M120-120v-720h720v720H120Zm60-500h600v-160H180v160Zm220 220h160v-160H400v160Zm0 220h160v-160H400v160ZM180-400h160v-160H180v160Zm440 0h160v-160H620v160ZM180-180h160v-160H180v160Zm440 0h160v-160H620v160Z\"/>\n",
              "  </svg>\n",
              "    </button>\n",
              "\n",
              "  <style>\n",
              "    .colab-df-container {\n",
              "      display:flex;\n",
              "      gap: 12px;\n",
              "    }\n",
              "\n",
              "    .colab-df-convert {\n",
              "      background-color: #E8F0FE;\n",
              "      border: none;\n",
              "      border-radius: 50%;\n",
              "      cursor: pointer;\n",
              "      display: none;\n",
              "      fill: #1967D2;\n",
              "      height: 32px;\n",
              "      padding: 0 0 0 0;\n",
              "      width: 32px;\n",
              "    }\n",
              "\n",
              "    .colab-df-convert:hover {\n",
              "      background-color: #E2EBFA;\n",
              "      box-shadow: 0px 1px 2px rgba(60, 64, 67, 0.3), 0px 1px 3px 1px rgba(60, 64, 67, 0.15);\n",
              "      fill: #174EA6;\n",
              "    }\n",
              "\n",
              "    .colab-df-buttons div {\n",
              "      margin-bottom: 4px;\n",
              "    }\n",
              "\n",
              "    [theme=dark] .colab-df-convert {\n",
              "      background-color: #3B4455;\n",
              "      fill: #D2E3FC;\n",
              "    }\n",
              "\n",
              "    [theme=dark] .colab-df-convert:hover {\n",
              "      background-color: #434B5C;\n",
              "      box-shadow: 0px 1px 3px 1px rgba(0, 0, 0, 0.15);\n",
              "      filter: drop-shadow(0px 1px 2px rgba(0, 0, 0, 0.3));\n",
              "      fill: #FFFFFF;\n",
              "    }\n",
              "  </style>\n",
              "\n",
              "    <script>\n",
              "      const buttonEl =\n",
              "        document.querySelector('#df-4f1afef5-de35-4962-8364-4f6e1ba9fcb3 button.colab-df-convert');\n",
              "      buttonEl.style.display =\n",
              "        google.colab.kernel.accessAllowed ? 'block' : 'none';\n",
              "\n",
              "      async function convertToInteractive(key) {\n",
              "        const element = document.querySelector('#df-4f1afef5-de35-4962-8364-4f6e1ba9fcb3');\n",
              "        const dataTable =\n",
              "          await google.colab.kernel.invokeFunction('convertToInteractive',\n",
              "                                                    [key], {});\n",
              "        if (!dataTable) return;\n",
              "\n",
              "        const docLinkHtml = 'Like what you see? Visit the ' +\n",
              "          '<a target=\"_blank\" href=https://colab.research.google.com/notebooks/data_table.ipynb>data table notebook</a>'\n",
              "          + ' to learn more about interactive tables.';\n",
              "        element.innerHTML = '';\n",
              "        dataTable['output_type'] = 'display_data';\n",
              "        await google.colab.output.renderOutput(dataTable, element);\n",
              "        const docLink = document.createElement('div');\n",
              "        docLink.innerHTML = docLinkHtml;\n",
              "        element.appendChild(docLink);\n",
              "      }\n",
              "    </script>\n",
              "  </div>\n",
              "\n",
              "\n",
              "<div id=\"df-fd41ade6-d2a2-4e96-8b4e-c2f46864a817\">\n",
              "  <button class=\"colab-df-quickchart\" onclick=\"quickchart('df-fd41ade6-d2a2-4e96-8b4e-c2f46864a817')\"\n",
              "            title=\"Suggest charts\"\n",
              "            style=\"display:none;\">\n",
              "\n",
              "<svg xmlns=\"http://www.w3.org/2000/svg\" height=\"24px\"viewBox=\"0 0 24 24\"\n",
              "     width=\"24px\">\n",
              "    <g>\n",
              "        <path d=\"M19 3H5c-1.1 0-2 .9-2 2v14c0 1.1.9 2 2 2h14c1.1 0 2-.9 2-2V5c0-1.1-.9-2-2-2zM9 17H7v-7h2v7zm4 0h-2V7h2v10zm4 0h-2v-4h2v4z\"/>\n",
              "    </g>\n",
              "</svg>\n",
              "  </button>\n",
              "\n",
              "<style>\n",
              "  .colab-df-quickchart {\n",
              "      --bg-color: #E8F0FE;\n",
              "      --fill-color: #1967D2;\n",
              "      --hover-bg-color: #E2EBFA;\n",
              "      --hover-fill-color: #174EA6;\n",
              "      --disabled-fill-color: #AAA;\n",
              "      --disabled-bg-color: #DDD;\n",
              "  }\n",
              "\n",
              "  [theme=dark] .colab-df-quickchart {\n",
              "      --bg-color: #3B4455;\n",
              "      --fill-color: #D2E3FC;\n",
              "      --hover-bg-color: #434B5C;\n",
              "      --hover-fill-color: #FFFFFF;\n",
              "      --disabled-bg-color: #3B4455;\n",
              "      --disabled-fill-color: #666;\n",
              "  }\n",
              "\n",
              "  .colab-df-quickchart {\n",
              "    background-color: var(--bg-color);\n",
              "    border: none;\n",
              "    border-radius: 50%;\n",
              "    cursor: pointer;\n",
              "    display: none;\n",
              "    fill: var(--fill-color);\n",
              "    height: 32px;\n",
              "    padding: 0;\n",
              "    width: 32px;\n",
              "  }\n",
              "\n",
              "  .colab-df-quickchart:hover {\n",
              "    background-color: var(--hover-bg-color);\n",
              "    box-shadow: 0 1px 2px rgba(60, 64, 67, 0.3), 0 1px 3px 1px rgba(60, 64, 67, 0.15);\n",
              "    fill: var(--button-hover-fill-color);\n",
              "  }\n",
              "\n",
              "  .colab-df-quickchart-complete:disabled,\n",
              "  .colab-df-quickchart-complete:disabled:hover {\n",
              "    background-color: var(--disabled-bg-color);\n",
              "    fill: var(--disabled-fill-color);\n",
              "    box-shadow: none;\n",
              "  }\n",
              "\n",
              "  .colab-df-spinner {\n",
              "    border: 2px solid var(--fill-color);\n",
              "    border-color: transparent;\n",
              "    border-bottom-color: var(--fill-color);\n",
              "    animation:\n",
              "      spin 1s steps(1) infinite;\n",
              "  }\n",
              "\n",
              "  @keyframes spin {\n",
              "    0% {\n",
              "      border-color: transparent;\n",
              "      border-bottom-color: var(--fill-color);\n",
              "      border-left-color: var(--fill-color);\n",
              "    }\n",
              "    20% {\n",
              "      border-color: transparent;\n",
              "      border-left-color: var(--fill-color);\n",
              "      border-top-color: var(--fill-color);\n",
              "    }\n",
              "    30% {\n",
              "      border-color: transparent;\n",
              "      border-left-color: var(--fill-color);\n",
              "      border-top-color: var(--fill-color);\n",
              "      border-right-color: var(--fill-color);\n",
              "    }\n",
              "    40% {\n",
              "      border-color: transparent;\n",
              "      border-right-color: var(--fill-color);\n",
              "      border-top-color: var(--fill-color);\n",
              "    }\n",
              "    60% {\n",
              "      border-color: transparent;\n",
              "      border-right-color: var(--fill-color);\n",
              "    }\n",
              "    80% {\n",
              "      border-color: transparent;\n",
              "      border-right-color: var(--fill-color);\n",
              "      border-bottom-color: var(--fill-color);\n",
              "    }\n",
              "    90% {\n",
              "      border-color: transparent;\n",
              "      border-bottom-color: var(--fill-color);\n",
              "    }\n",
              "  }\n",
              "</style>\n",
              "\n",
              "  <script>\n",
              "    async function quickchart(key) {\n",
              "      const quickchartButtonEl =\n",
              "        document.querySelector('#' + key + ' button');\n",
              "      quickchartButtonEl.disabled = true;  // To prevent multiple clicks.\n",
              "      quickchartButtonEl.classList.add('colab-df-spinner');\n",
              "      try {\n",
              "        const charts = await google.colab.kernel.invokeFunction(\n",
              "            'suggestCharts', [key], {});\n",
              "      } catch (error) {\n",
              "        console.error('Error during call to suggestCharts:', error);\n",
              "      }\n",
              "      quickchartButtonEl.classList.remove('colab-df-spinner');\n",
              "      quickchartButtonEl.classList.add('colab-df-quickchart-complete');\n",
              "    }\n",
              "    (() => {\n",
              "      let quickchartButtonEl =\n",
              "        document.querySelector('#df-fd41ade6-d2a2-4e96-8b4e-c2f46864a817 button');\n",
              "      quickchartButtonEl.style.display =\n",
              "        google.colab.kernel.accessAllowed ? 'block' : 'none';\n",
              "    })();\n",
              "  </script>\n",
              "</div>\n",
              "\n",
              "    </div>\n",
              "  </div>\n"
            ],
            "application/vnd.google.colaboratory.intrinsic+json": {
              "type": "dataframe",
              "variable_name": "dataset_pandas",
              "summary": "{\n  \"name\": \"dataset_pandas\",\n  \"rows\": 91138,\n  \"fields\": [\n    {\n      \"column\": \"inputs\",\n      \"properties\": {\n        \"dtype\": \"object\",\n        \"semantic_type\": \"\",\n        \"description\": \"\"\n      }\n    },\n    {\n      \"column\": \"output\",\n      \"properties\": {\n        \"dtype\": \"number\",\n        \"std\": 14,\n        \"min\": 24,\n        \"max\": 105,\n        \"num_unique_values\": 82,\n        \"samples\": [\n          67,\n          54,\n          39\n        ],\n        \"semantic_type\": \"\",\n        \"description\": \"\"\n      }\n    }\n  ]\n}"
            }
          },
          "metadata": {},
          "execution_count": 185
        }
      ],
      "execution_count": 185
    },
    {
      "source": [
        "# @title output\n",
        "\n",
        "from matplotlib import pyplot as plt\n",
        "dataset_pandas['output'].plot(kind='hist', bins=20, title='output')\n",
        "plt.gca().spines[['top', 'right',]].set_visible(False)"
      ],
      "cell_type": "code",
      "execution_count": 186,
      "outputs": [
        {
          "output_type": "display_data",
          "data": {
            "text/plain": [
              "<Figure size 640x480 with 1 Axes>"
            ],
            "image/png": "[encoded data removed]"
          },
          "metadata": {}
        }
      ],
      "metadata": {
        "colab": {
          "base_uri": "https://localhost:8080/",
          "height": 452
        },
        "id": "uoINaHRIu_lO",
        "outputId": "19ac7dad-649c-4144-bc4a-367c6a39c7cf"
      }
    },
    {
      "cell_type": "markdown",
      "source": [
        "Preparacion de los datos para trabajar con la red. Se inicializan las varaibles y se definen las funciones para el entrenamiento de la red incluyendo el calculo de precision. Tambien se calcula el accuracy antes de entrenar la red."
      ],
      "metadata": {
        "id": "dDdTp9YS1dXB"
      }
    },
    {
      "cell_type": "code",
      "source": [
        "# neuronas_entrada = 100 / neuronas_de_la_capa_oculta = 60 / neurona_salida = 1\n",
        "\n",
        "# Extraemos los datos de entrada y de salida\n",
        "inputs = np.array(dataset_pandas['inputs'].tolist())\n",
        "output = np.array(dataset_pandas['output'])\n",
        "np.random.seed(30)\n",
        "\n",
        "# Separar un conjunto de datos para entrenar y otro para probar\n",
        "x_train, x_test, y_train, y_test = train_test_split(inputs, output, test_size=1/3)\n",
        "# print(\"x_train:\\n\", x_train)\n",
        "# print(\"x_test:\\n\", x_test)\n",
        "# print(\"y_train:\\n\", y_train)\n",
        "# print(\"y_test:\\n\", y_test)\n",
        "\n",
        "# Pesos y sesgos\n",
        "w_hidden = np.random.rand(60, 100) * 2 - 1\n",
        "w_output = np.random.rand(1, 60) * 2 - 1\n",
        "b_hidden = np.random.rand(60, 1) * 2 - 1\n",
        "b_output = np.random.rand(1, 1) * 2 - 1\n",
        "\n",
        "# Funcion de activacion y la derivada\n",
        "relu = lambda x: np.where(x > 0, x, 0.01 * x)\n",
        "logistic = lambda x: 1 / (1 + np.exp(-x))\n",
        "d_relu = lambda x: np.where(x > 0, 1, 0.01)\n",
        "d_logistic = lambda x: np.exp(-x) / (1 + np.exp(-x)) ** 2\n",
        "\n",
        "# Forward Propagation, recorrer la red hacia adelante\n",
        "def forward_prop(x):\n",
        "\tz1 = np.matmul(w_hidden, x).reshape((60,1)) + b_hidden\n",
        "\ta1 = relu(z1)\n",
        "\tz2 = np.matmul(w_output, a1) + b_output\n",
        "\ta2 = logistic(z2)\n",
        "\treturn z1, a1, z2, a2\n",
        "\n",
        "# Calculo de precision\n",
        "def calcular_accuracy():\n",
        "\taccuracy_train = 0\n",
        "\taccuracy_test = 0\n",
        "\tnp.set_printoptions(precision=5)\n",
        "\tfor i in range(len(x_test)):\n",
        "\t\ttest_predictions = forward_prop(x_test[i].T)[3]\n",
        "\t\taccuracy_individual_test =  (test_predictions - y_test[i]).astype(int) / y_test[i]\n",
        "\t\taccuracy_test += accuracy_individual_test\n",
        "\n",
        "\tfor i in range(len(x_train)):\n",
        "\t\ttrain_predictions = forward_prop(x_train[i].T)[3]\n",
        "\t\taccuracy_individual_train =  (train_predictions - y_train[i]).astype(int) / y_train[i]\n",
        "\t\taccuracy_train += accuracy_individual_train\n",
        "\n",
        "\taccuracy_test = np.abs(accuracy_test / len(x_test))\n",
        "\taccuracy_train = np.abs(accuracy_train / len(x_train))\n",
        "\tprint(\"ACCURACY TEST:\", accuracy_test)\n",
        "\tprint(\"ACCURACY TRAIN:\", accuracy_train)\n",
        "\n",
        "calcular_accuracy()\n",
        "\n",
        "# Backpropagation, recorrer la red hacia atras\n",
        "def backward_prop(z1, a1, z2, a2, x, y):\n",
        "\tdc_da2 = 2 * a2 - 2 * y\n",
        "\tda2_dz2 = d_logistic(z2)\n",
        "\tdz2_da1 = w_output\n",
        "\tdz2_dw2 = a1\n",
        "\tdz2_db2 = 1\n",
        "\tda1_dz1 = d_relu(z1)\n",
        "\tdz1_dw1 = x\n",
        "\tdz1_db1 = 1\n",
        "\n",
        "\tdc_dw2 = dc_da2 @ da2_dz2 @ dz2_dw2.T\n",
        "\tdc_db2 = dc_da2 @ da2_dz2 * dz2_db2\n",
        "\tdc_da1 = dc_da2 @ da2_dz2 @ dz2_da1\n",
        "\tdc_dw1 = dc_da1 @ da1_dz1 @ dz1_dw1.T\n",
        "\tdc_db1 = dc_da1 @ da1_dz1 * dz1_db1\n",
        "\n",
        "\treturn dc_dw1, dc_db1, dc_dw2, dc_db2"
      ],
      "metadata": {
        "id": "8K5rzTxS1m8L",
        "colab": {
          "base_uri": "https://localhost:8080/"
        },
        "outputId": "d75208d6-33ae-4aac-8b71-c50a7eeb99d3"
      },
      "execution_count": 188,
      "outputs": [
        {
          "output_type": "stream",
          "name": "stdout",
          "text": [
            "ACCURACY TEST: [[0.98354]]\n",
            "ACCURACY TRAIN: [[0.98356]]\n"
          ]
        }
      ]
    },
    {
      "cell_type": "markdown",
      "source": [
        "Entrenamiento de la red usando las funciones y los datos ya separados"
      ],
      "metadata": {
        "id": "ElE09jZh1xOq"
      }
    },
    {
      "cell_type": "code",
      "source": [
        "L = 0.001\n",
        "epoch = 10_000\n",
        "\n",
        "# Ejecutar descenso de gradiente\n",
        "for i in range(epoch):\n",
        "  # Seleccion aleatoria de unos de los datos de entrenamiento\n",
        "  idx = np.random.choice(range(len(x_train)), 1, replace=False)\n",
        "  x_sample = x_train[idx].T\n",
        "  y_sample = y_train[idx]\n",
        "\n",
        "  # Pasar los datos seleccionados a traves de la red\n",
        "  z1, a1, z2, a2 = forward_prop(x_sample)\n",
        "  # Distribuir el error a traves de la retro propagacion, devolver pendientes para pesos y sesgo\n",
        "  dw_hidden, db_hidden, dw_output, db_output = backward_prop(z1, a1, z2, a2, x_sample, y_sample)\n",
        "  # Actualizar pesos y sesgos\n",
        "  w_hidden -= L * dw_hidden\n",
        "  b_hidden -= L * db_hidden\n",
        "  w_output -= L * dw_output\n",
        "  b_output -= L * db_output\n",
        "  # if(i % 10000 == 0):\n",
        "print(w_hidden, b_hidden, w_output, b_output, sep=\"\\n\")\n",
        "print(\"\\n\\n\")"
      ],
      "metadata": {
        "colab": {
          "base_uri": "https://localhost:8080/"
        },
        "id": "AWdbxm1u11ZS",
        "outputId": "47bf5330-f1a0-4201-ca70-5ca72f52fee0"
      },
      "execution_count": null,
      "outputs": [
        {
          "output_type": "stream",
          "name": "stdout",
          "text": [
            "[[-0.10958  0.6542  -0.2905  ...  0.45116  0.41938  0.32999]\n",
            " [ 1.19702  1.13169  0.1881  ... -0.47943  0.02185  0.23776]\n",
            " [ 1.22604  1.2651   0.38447 ...  0.68422  0.37139  0.15202]\n",
            " ...\n",
            " [ 1.04581  0.9263   0.62367 ... -0.24514  0.52366  0.26436]\n",
            " [ 0.60468  0.19641  0.39751 ...  0.25631  1.07954  0.09994]\n",
            " [ 1.30742  0.30741 -0.48584 ...  1.24403 -0.35452  0.58001]]\n",
            "[[ 1.32401]\n",
            " [ 1.34748]\n",
            " [ 1.37436]\n",
            " [ 0.61861]\n",
            " [-0.09441]\n",
            " [ 1.48983]\n",
            " [ 1.32897]\n",
            " [ 1.06954]\n",
            " [ 0.73004]\n",
            " [ 0.52739]\n",
            " [ 1.72163]\n",
            " [ 1.57834]\n",
            " [ 0.47514]\n",
            " [ 0.17154]\n",
            " [ 1.44508]\n",
            " [ 0.74419]\n",
            " [-0.12768]\n",
            " [ 0.96474]\n",
            " [ 0.16237]\n",
            " [ 0.94421]\n",
            " [ 0.30901]\n",
            " [ 1.30258]\n",
            " [ 0.10605]\n",
            " [ 0.72151]\n",
            " [ 1.1068 ]\n",
            " [ 0.74812]\n",
            " [ 0.20257]\n",
            " [ 0.43207]\n",
            " [ 1.69514]\n",
            " [ 1.67487]\n",
            " [ 0.35503]\n",
            " [-0.02238]\n",
            " [-0.26942]\n",
            " [ 1.72476]\n",
            " [ 0.57357]\n",
            " [ 1.22549]\n",
            " [ 0.12436]\n",
            " [-0.18034]\n",
            " [ 0.96305]\n",
            " [-0.26023]\n",
            " [ 0.84967]\n",
            " [ 1.34162]\n",
            " [-0.02852]\n",
            " [ 0.74145]\n",
            " [ 0.14516]\n",
            " [ 1.25441]\n",
            " [ 0.48448]\n",
            " [ 0.66687]\n",
            " [ 0.93632]\n",
            " [ 1.24831]\n",
            " [ 0.27157]\n",
            " [ 1.27744]\n",
            " [ 0.55791]\n",
            " [ 1.05268]\n",
            " [ 1.61989]\n",
            " [ 1.1031 ]\n",
            " [-0.02934]\n",
            " [ 0.38004]\n",
            " [-0.12455]\n",
            " [ 0.74849]]\n",
            "[[ 0.28017  2.94549  0.17582  1.11476  0.40705  0.88735  0.35319  0.07126\n",
            "   0.57786  0.09882  2.39658  0.26966  0.88533 -0.30553  2.35245  1.85964\n",
            "   0.99049  0.31101  0.03218  3.87811  1.09638  2.08189  0.9136   1.66079\n",
            "  -0.06646  2.49102 -0.31488  0.36885  1.04176  1.80976  1.90105  0.99645\n",
            "   0.59445 -0.41226  1.20649 -0.35544  0.37601 -0.67496  0.50375  0.75593\n",
            "   3.40456  3.51213 -0.50473 -0.30616  0.69908  2.13963  0.31254  0.1461\n",
            "  -0.80211  1.73263  1.70533  0.97781  0.2963  -0.49267 -0.90379  2.99563\n",
            "   0.69135  0.85282  0.27988  1.7216 ]]\n",
            "[[-0.46887]]\n",
            "\n",
            "\n",
            "\n"
          ]
        }
      ]
    },
    {
      "cell_type": "markdown",
      "source": [
        "Calculo de precision despues del entrenamiento"
      ],
      "metadata": {
        "id": "0g8dPfc4cpFd"
      }
    },
    {
      "cell_type": "code",
      "source": [
        "calcular_accuracy()"
      ],
      "metadata": {
        "colab": {
          "base_uri": "https://localhost:8080/"
        },
        "id": "k1zCwdqacpXJ",
        "outputId": "d73b4bf0-3e71-43a0-e9f0-ced50fab0dd1"
      },
      "execution_count": null,
      "outputs": [
        {
          "output_type": "stream",
          "name": "stdout",
          "text": [
            "ACCURACY TEST: [[0.98355]]\n",
            "ACCURACY TRAIN: [[0.98356]]\n"
          ]
        }
      ]
    },
    {
      "cell_type": "code",
      "source": [
        "#GRAFICO\n",
        "'''\n",
        "Sobre el gráfico básicamente hay que calcular el accuracy en cada iteración, y luego de que aprenda la red se grafica, quedaría un gráfico así (pueden tener un gráfico distinto para cada L y saber dónde les queda mejor optimizada)\n",
        "Este gráfico es opcional xque no lo vimos en clase, así que no se preocupen. Pero al que le interese hacerlo, estoy pensando en grabar un videito mostrándolo y subirlo\n",
        "VIDEO\n",
        "'''\n",
        "# def graficar_entrenamiento(epocas, errores):\n",
        "#     f = plt.figure()\n",
        "#     f.set_figwidth(15)\n",
        "\n",
        "#     X_axis = range(1, epocas+1)\n",
        "#     Y_axis = errores\n",
        "#     plt.plot(X_axis, Y_axis)\n",
        "#     plt.xticks(X_axis)\n",
        "#     plt.xlabel(\"Épocas\")\n",
        "#     plt.ylabel(\"Error\")\n",
        "#     plt.show()  # Nunca olvides agregar \"plt.show()\" siempre que estes usando matplotlib en VS code."
      ],
      "metadata": {
        "id": "0LVSJsVuZnHQ"
      },
      "execution_count": null,
      "outputs": []
    }
  ]
}
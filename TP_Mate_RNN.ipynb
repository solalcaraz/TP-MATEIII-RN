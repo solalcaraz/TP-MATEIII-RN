{
  "cells": [
    {
      "cell_type": "markdown",
      "metadata": {
        "id": "79M9fZynpFr9"
      },
      "source": [
        "# RED NEURONAL.\n",
        "\n",
        "El armado de esta red neuronal pretende predecir la siguiente nota.\n",
        "\n",
        "La base de datos elegida es un conjunto de datos que contiene alrededor de 200hs de grabaciones de audio y MIDI emparejadas de diez años de Concurso Internacional de Piano.\n",
        "\n",
        "FUENTE: https://magenta.tensorflow.org/datasets/maestro"
      ]
    },
    {
      "cell_type": "code",
      "execution_count": null,
      "metadata": {
        "colab": {
          "base_uri": "https://localhost:8080/"
        },
        "id": "HQahjYI4zzBx",
        "outputId": "6ee64c9e-bc55-4751-bcea-3d4a87bd8cb2",
        "trusted": true
      },
      "outputs": [],
      "source": [
        "# import zipfile as zf\n",
        "# files = zf.ZipFile(\"/content/maestro-v3.0.0-midi.zip\", 'r')\n",
        "# files.extractall('data/')\n",
        "# files.close()\n",
        "!pip install pretty_midi\n",
        "!pip install tensorflow\n",
        "!pip install scikit-learn"
      ]
    },
    {
      "cell_type": "markdown",
      "metadata": {
        "id": "NCReHdbOzzBz"
      },
      "source": [
        "Se instalan todos los paquetes relevantes para procesar y escuchar archivos MIDI, glob para iterar sobre los archivos del dataset, collections para el diccionario con valor por defecto, y pathlib para abrir el archivo."
      ]
    },
    {
      "cell_type": "code",
      "execution_count": null,
      "metadata": {
        "id": "YpceBp8_zzB1",
        "trusted": true
      },
      "outputs": [
        {
          "ename": "",
          "evalue": "",
          "output_type": "error",
          "traceback": [
            "\u001b[1;31mRunning cells with 'Python 3.12.2' requires the ipykernel package.\n",
            "\u001b[1;31mRun the following command to install 'ipykernel' into the Python environment. \n",
            "\u001b[1;31mCommand: 'c:/Users/alcar/AppData/Local/Programs/Python/Python312/python.exe -m pip install ipykernel -U --user --force-reinstall'"
          ]
        }
      ],
      "source": [
        "import collections\n",
        "import glob\n",
        "import numpy as np\n",
        "import pathlib\n",
        "import pandas as pd\n",
        "import pretty_midi\n",
        "import tensorflow as tf\n",
        "from sklearn.model_selection import train_test_split"
      ]
    },
    {
      "cell_type": "markdown",
      "metadata": {
        "id": "ORs0ge5bzzB1"
      },
      "source": [
        "Se define un directorio que contendra todos los archivos MIDI que seran analizados. Se arma una funcion que convierte esos archivos a un DataFrame de pandas donde utilizamos una variable para definir una \"nota\" que contendra como caracteristica el tono (pitch). Tono es la calidad sonora de la nota, lo que la distingue de otras."
      ]
    },
    {
      "cell_type": "code",
      "execution_count": null,
      "metadata": {
        "colab": {
          "base_uri": "https://localhost:8080/"
        },
        "id": "nH-UBIUtzzCI",
        "outputId": "08eb0e30-bb31-4847-a169-15a3411c331d",
        "trusted": true
      },
      "outputs": [
        {
          "name": "stdout",
          "output_type": "stream",
          "text": [
            "Downloading data from https://storage.googleapis.com/magentadata/datasets/maestro/v2.0.0/maestro-v2.0.0-midi.zip\n",
            "59243107/59243107 [==============================] - 1s 0us/step\n",
            "num archivos: 1282\n"
          ]
        }
      ],
      "source": [
        "directorio = pathlib.Path('data/maestro-v2.0.0')\n",
        "if not directorio.exists():\n",
        "  tf.keras.utils.get_file(\n",
        "      'maestro-v2.0.0-midi.zip',\n",
        "      origin='https://storage.googleapis.com/magentadata/datasets/maestro/v2.0.0/maestro-v2.0.0-midi.zip',\n",
        "      extract=True,\n",
        "      cache_dir='.', cache_subdir='data',\n",
        "  )\n",
        "\n",
        "filenames = glob.glob(str(directorio/'**/*.mid*'))\n",
        "print('num archivos:', len(filenames))\n",
        "\n",
        "# sample_file = \"/content/MIDI-Unprocessed_25_R2_2011_MID--AUDIO_R2-D6_07_Track07_wav.midi\"\n",
        "# print(sample_file)\n",
        "\n",
        "def midi_a_notas(midifile: str) -> pd.DataFrame:\n",
        "    pm = pretty_midi.PrettyMIDI(midifile)\n",
        "    instrumento = pm.instruments[0]\n",
        "    notas = collections.defaultdict(list)\n",
        "\n",
        "    notas_orden = sorted(instrumento.notes, key=lambda nota: nota.start)\n",
        "    previa_inicio = notas_orden[0].start\n",
        "\n",
        "    for nota in notas_orden:\n",
        "        notas['pitch'].append(nota.pitch)\n",
        "\n",
        "    return pd.DataFrame({nombre: np.array(valor) for nombre, valor in notas.items()})"
      ]
    },
    {
      "cell_type": "markdown",
      "metadata": {
        "id": "zCPieVI_zzCI"
      },
      "source": [
        "Se agrega un fragmento de codigo hecho por otra persona, que permite escribir un dataframe con notas en un archivo midi y lo devuelve como prettyMIDI para poder escucharlo (No se usa):"
      ]
    },
    {
      "cell_type": "code",
      "execution_count": null,
      "metadata": {
        "id": "-PeuOiUxzzCJ",
        "trusted": true
      },
      "outputs": [],
      "source": [
        "def notes_to_midi(\n",
        "  notes: pd.DataFrame,\n",
        "  out_file: str,\n",
        "  instrument_name: str,\n",
        "  velocity: int = 100,  # note loudness\n",
        ") -> pretty_midi.PrettyMIDI:\n",
        "\n",
        "  pm = pretty_midi.PrettyMIDI()\n",
        "  instrument = pretty_midi.Instrument(\n",
        "      program=pretty_midi.instrument_name_to_program(\n",
        "          instrument_name))\n",
        "\n",
        "  prev_start = 0\n",
        "  for i, note in notes.iterrows():\n",
        "    start = float(prev_start + note['step'])\n",
        "    end = float(start + note['duration'])\n",
        "    note = pretty_midi.Note(\n",
        "        velocity=velocity,\n",
        "        pitch=int(note['pitch']),\n",
        "        start=start,\n",
        "        end=end,\n",
        "    )\n",
        "    instrument.notes.append(note)\n",
        "    prev_start = start\n",
        "\n",
        "  pm.instruments.append(instrument)\n",
        "  pm.write(out_file)\n",
        "  return pm"
      ]
    },
    {
      "cell_type": "markdown",
      "metadata": {
        "id": "8v8T0lcpgFfe"
      },
      "source": [
        "Se procesan los archivos MIDI, se extraen las notas de cada archivo y se preparan los datos para el modelo del aprendizaje automatico mas adelante."
      ]
    },
    {
      "cell_type": "code",
      "execution_count": null,
      "metadata": {
        "colab": {
          "base_uri": "https://localhost:8080/"
        },
        "id": "pj2yutyNzzCJ",
        "outputId": "9fac7467-94d2-49f0-f427-97e5345f67f5",
        "trusted": true
      },
      "outputs": [
        {
          "name": "stdout",
          "output_type": "stream",
          "text": [
            "   pitch\n",
            "0     52\n",
            "1     55\n",
            "2     67\n",
            "3     40\n",
            "4     59\n",
            "[52 55 67 ... 63 39 27]\n"
          ]
        }
      ],
      "source": [
        "notasGlobal = []\n",
        "tam_muestra = 20\n",
        "\n",
        "for f in filenames[:tam_muestra]:\n",
        "  notas = midi_a_notas(f)\n",
        "  notasGlobal.append(notas)\n",
        "\n",
        "notasGlobal = pd.concat(notasGlobal)\n",
        "print(notasGlobal.head())\n",
        "\n",
        "indice_notas = ['pitch']\n",
        "notas_entrenamiento = np.array([notasGlobal[key] for key in indice_notas]).flatten()\n",
        "np.set_printoptions(precision=3)\n",
        "dataset_nota = tf.data.Dataset.from_tensor_slices(notas_entrenamiento)\n",
        "print(notas_entrenamiento)\n",
        "#print(list(dataset_nota.as_numpy_iterator()))"
      ]
    },
    {
      "cell_type": "markdown",
      "metadata": {
        "id": "4lARgNBmgWoq"
      },
      "source": [
        "Luego, transformamos el dataset de las notas en ventanas de secuencias para su uso."
      ]
    },
    {
      "cell_type": "code",
      "execution_count": null,
      "metadata": {
        "colab": {
          "base_uri": "https://localhost:8080/",
          "height": 206
        },
        "id": "k_IG3KLnzzCK",
        "outputId": "415c95ff-6408-424d-8e60-27edad132258",
        "trusted": true
      },
      "outputs": [
        {
          "data": {
            "application/vnd.google.colaboratory.intrinsic+json": {
              "summary": "{\n  \"name\": \"dataset_pandas\",\n  \"rows\": 90700,\n  \"fields\": [\n    {\n      \"column\": \"inputs\",\n      \"properties\": {\n        \"dtype\": \"object\",\n        \"semantic_type\": \"\",\n        \"description\": \"\"\n      }\n    },\n    {\n      \"column\": \"output\",\n      \"properties\": {\n        \"dtype\": \"number\",\n        \"std\": 13,\n        \"min\": 22,\n        \"max\": 104,\n        \"num_unique_values\": 83,\n        \"samples\": [\n          62,\n          52,\n          69\n        ],\n        \"semantic_type\": \"\",\n        \"description\": \"\"\n      }\n    }\n  ]\n}",
              "type": "dataframe",
              "variable_name": "dataset_pandas"
            },
            "text/html": [
              "\n",
              "  <div id=\"df-a2b18f58-61a5-4d9b-a14f-8245e766d7af\" class=\"colab-df-container\">\n",
              "    <div>\n",
              "<style scoped>\n",
              "    .dataframe tbody tr th:only-of-type {\n",
              "        vertical-align: middle;\n",
              "    }\n",
              "\n",
              "    .dataframe tbody tr th {\n",
              "        vertical-align: top;\n",
              "    }\n",
              "\n",
              "    .dataframe thead th {\n",
              "        text-align: right;\n",
              "    }\n",
              "</style>\n",
              "<table border=\"1\" class=\"dataframe\">\n",
              "  <thead>\n",
              "    <tr style=\"text-align: right;\">\n",
              "      <th></th>\n",
              "      <th>inputs</th>\n",
              "      <th>output</th>\n",
              "    </tr>\n",
              "  </thead>\n",
              "  <tbody>\n",
              "    <tr>\n",
              "      <th>0</th>\n",
              "      <td>[0.5148514851485149, 0.5445544554455446, 0.663...</td>\n",
              "      <td>52</td>\n",
              "    </tr>\n",
              "    <tr>\n",
              "      <th>1</th>\n",
              "      <td>[0.5445544554455446, 0.6633663366336634, 0.396...</td>\n",
              "      <td>67</td>\n",
              "    </tr>\n",
              "    <tr>\n",
              "      <th>2</th>\n",
              "      <td>[0.6633663366336634, 0.39603960396039606, 0.58...</td>\n",
              "      <td>67</td>\n",
              "    </tr>\n",
              "    <tr>\n",
              "      <th>3</th>\n",
              "      <td>[0.39603960396039606, 0.5841584158415841, 0.63...</td>\n",
              "      <td>64</td>\n",
              "    </tr>\n",
              "    <tr>\n",
              "      <th>4</th>\n",
              "      <td>[0.5841584158415841, 0.6336633663366337, 0.514...</td>\n",
              "      <td>60</td>\n",
              "    </tr>\n",
              "  </tbody>\n",
              "</table>\n",
              "</div>\n",
              "    <div class=\"colab-df-buttons\">\n",
              "\n",
              "  <div class=\"colab-df-container\">\n",
              "    <button class=\"colab-df-convert\" onclick=\"convertToInteractive('df-a2b18f58-61a5-4d9b-a14f-8245e766d7af')\"\n",
              "            title=\"Convert this dataframe to an interactive table.\"\n",
              "            style=\"display:none;\">\n",
              "\n",
              "  <svg xmlns=\"http://www.w3.org/2000/svg\" height=\"24px\" viewBox=\"0 -960 960 960\">\n",
              "    <path d=\"M120-120v-720h720v720H120Zm60-500h600v-160H180v160Zm220 220h160v-160H400v160Zm0 220h160v-160H400v160ZM180-400h160v-160H180v160Zm440 0h160v-160H620v160ZM180-180h160v-160H180v160Zm440 0h160v-160H620v160Z\"/>\n",
              "  </svg>\n",
              "    </button>\n",
              "\n",
              "  <style>\n",
              "    .colab-df-container {\n",
              "      display:flex;\n",
              "      gap: 12px;\n",
              "    }\n",
              "\n",
              "    .colab-df-convert {\n",
              "      background-color: #E8F0FE;\n",
              "      border: none;\n",
              "      border-radius: 50%;\n",
              "      cursor: pointer;\n",
              "      display: none;\n",
              "      fill: #1967D2;\n",
              "      height: 32px;\n",
              "      padding: 0 0 0 0;\n",
              "      width: 32px;\n",
              "    }\n",
              "\n",
              "    .colab-df-convert:hover {\n",
              "      background-color: #E2EBFA;\n",
              "      box-shadow: 0px 1px 2px rgba(60, 64, 67, 0.3), 0px 1px 3px 1px rgba(60, 64, 67, 0.15);\n",
              "      fill: #174EA6;\n",
              "    }\n",
              "\n",
              "    .colab-df-buttons div {\n",
              "      margin-bottom: 4px;\n",
              "    }\n",
              "\n",
              "    [theme=dark] .colab-df-convert {\n",
              "      background-color: #3B4455;\n",
              "      fill: #D2E3FC;\n",
              "    }\n",
              "\n",
              "    [theme=dark] .colab-df-convert:hover {\n",
              "      background-color: #434B5C;\n",
              "      box-shadow: 0px 1px 3px 1px rgba(0, 0, 0, 0.15);\n",
              "      filter: drop-shadow(0px 1px 2px rgba(0, 0, 0, 0.3));\n",
              "      fill: #FFFFFF;\n",
              "    }\n",
              "  </style>\n",
              "\n",
              "    <script>\n",
              "      const buttonEl =\n",
              "        document.querySelector('#df-a2b18f58-61a5-4d9b-a14f-8245e766d7af button.colab-df-convert');\n",
              "      buttonEl.style.display =\n",
              "        google.colab.kernel.accessAllowed ? 'block' : 'none';\n",
              "\n",
              "      async function convertToInteractive(key) {\n",
              "        const element = document.querySelector('#df-a2b18f58-61a5-4d9b-a14f-8245e766d7af');\n",
              "        const dataTable =\n",
              "          await google.colab.kernel.invokeFunction('convertToInteractive',\n",
              "                                                    [key], {});\n",
              "        if (!dataTable) return;\n",
              "\n",
              "        const docLinkHtml = 'Like what you see? Visit the ' +\n",
              "          '<a target=\"_blank\" href=https://colab.research.google.com/notebooks/data_table.ipynb>data table notebook</a>'\n",
              "          + ' to learn more about interactive tables.';\n",
              "        element.innerHTML = '';\n",
              "        dataTable['output_type'] = 'display_data';\n",
              "        await google.colab.output.renderOutput(dataTable, element);\n",
              "        const docLink = document.createElement('div');\n",
              "        docLink.innerHTML = docLinkHtml;\n",
              "        element.appendChild(docLink);\n",
              "      }\n",
              "    </script>\n",
              "  </div>\n",
              "\n",
              "\n",
              "<div id=\"df-d6602022-99f9-461a-b771-335014c7a281\">\n",
              "  <button class=\"colab-df-quickchart\" onclick=\"quickchart('df-d6602022-99f9-461a-b771-335014c7a281')\"\n",
              "            title=\"Suggest charts\"\n",
              "            style=\"display:none;\">\n",
              "\n",
              "<svg xmlns=\"http://www.w3.org/2000/svg\" height=\"24px\"viewBox=\"0 0 24 24\"\n",
              "     width=\"24px\">\n",
              "    <g>\n",
              "        <path d=\"M19 3H5c-1.1 0-2 .9-2 2v14c0 1.1.9 2 2 2h14c1.1 0 2-.9 2-2V5c0-1.1-.9-2-2-2zM9 17H7v-7h2v7zm4 0h-2V7h2v10zm4 0h-2v-4h2v4z\"/>\n",
              "    </g>\n",
              "</svg>\n",
              "  </button>\n",
              "\n",
              "<style>\n",
              "  .colab-df-quickchart {\n",
              "      --bg-color: #E8F0FE;\n",
              "      --fill-color: #1967D2;\n",
              "      --hover-bg-color: #E2EBFA;\n",
              "      --hover-fill-color: #174EA6;\n",
              "      --disabled-fill-color: #AAA;\n",
              "      --disabled-bg-color: #DDD;\n",
              "  }\n",
              "\n",
              "  [theme=dark] .colab-df-quickchart {\n",
              "      --bg-color: #3B4455;\n",
              "      --fill-color: #D2E3FC;\n",
              "      --hover-bg-color: #434B5C;\n",
              "      --hover-fill-color: #FFFFFF;\n",
              "      --disabled-bg-color: #3B4455;\n",
              "      --disabled-fill-color: #666;\n",
              "  }\n",
              "\n",
              "  .colab-df-quickchart {\n",
              "    background-color: var(--bg-color);\n",
              "    border: none;\n",
              "    border-radius: 50%;\n",
              "    cursor: pointer;\n",
              "    display: none;\n",
              "    fill: var(--fill-color);\n",
              "    height: 32px;\n",
              "    padding: 0;\n",
              "    width: 32px;\n",
              "  }\n",
              "\n",
              "  .colab-df-quickchart:hover {\n",
              "    background-color: var(--hover-bg-color);\n",
              "    box-shadow: 0 1px 2px rgba(60, 64, 67, 0.3), 0 1px 3px 1px rgba(60, 64, 67, 0.15);\n",
              "    fill: var(--button-hover-fill-color);\n",
              "  }\n",
              "\n",
              "  .colab-df-quickchart-complete:disabled,\n",
              "  .colab-df-quickchart-complete:disabled:hover {\n",
              "    background-color: var(--disabled-bg-color);\n",
              "    fill: var(--disabled-fill-color);\n",
              "    box-shadow: none;\n",
              "  }\n",
              "\n",
              "  .colab-df-spinner {\n",
              "    border: 2px solid var(--fill-color);\n",
              "    border-color: transparent;\n",
              "    border-bottom-color: var(--fill-color);\n",
              "    animation:\n",
              "      spin 1s steps(1) infinite;\n",
              "  }\n",
              "\n",
              "  @keyframes spin {\n",
              "    0% {\n",
              "      border-color: transparent;\n",
              "      border-bottom-color: var(--fill-color);\n",
              "      border-left-color: var(--fill-color);\n",
              "    }\n",
              "    20% {\n",
              "      border-color: transparent;\n",
              "      border-left-color: var(--fill-color);\n",
              "      border-top-color: var(--fill-color);\n",
              "    }\n",
              "    30% {\n",
              "      border-color: transparent;\n",
              "      border-left-color: var(--fill-color);\n",
              "      border-top-color: var(--fill-color);\n",
              "      border-right-color: var(--fill-color);\n",
              "    }\n",
              "    40% {\n",
              "      border-color: transparent;\n",
              "      border-right-color: var(--fill-color);\n",
              "      border-top-color: var(--fill-color);\n",
              "    }\n",
              "    60% {\n",
              "      border-color: transparent;\n",
              "      border-right-color: var(--fill-color);\n",
              "    }\n",
              "    80% {\n",
              "      border-color: transparent;\n",
              "      border-right-color: var(--fill-color);\n",
              "      border-bottom-color: var(--fill-color);\n",
              "    }\n",
              "    90% {\n",
              "      border-color: transparent;\n",
              "      border-bottom-color: var(--fill-color);\n",
              "    }\n",
              "  }\n",
              "</style>\n",
              "\n",
              "  <script>\n",
              "    async function quickchart(key) {\n",
              "      const quickchartButtonEl =\n",
              "        document.querySelector('#' + key + ' button');\n",
              "      quickchartButtonEl.disabled = true;  // To prevent multiple clicks.\n",
              "      quickchartButtonEl.classList.add('colab-df-spinner');\n",
              "      try {\n",
              "        const charts = await google.colab.kernel.invokeFunction(\n",
              "            'suggestCharts', [key], {});\n",
              "      } catch (error) {\n",
              "        console.error('Error during call to suggestCharts:', error);\n",
              "      }\n",
              "      quickchartButtonEl.classList.remove('colab-df-spinner');\n",
              "      quickchartButtonEl.classList.add('colab-df-quickchart-complete');\n",
              "    }\n",
              "    (() => {\n",
              "      let quickchartButtonEl =\n",
              "        document.querySelector('#df-d6602022-99f9-461a-b771-335014c7a281 button');\n",
              "      quickchartButtonEl.style.display =\n",
              "        google.colab.kernel.accessAllowed ? 'block' : 'none';\n",
              "    })();\n",
              "  </script>\n",
              "</div>\n",
              "\n",
              "    </div>\n",
              "  </div>\n"
            ],
            "text/plain": [
              "                                              inputs  output\n",
              "0  [0.5148514851485149, 0.5445544554455446, 0.663...      52\n",
              "1  [0.5445544554455446, 0.6633663366336634, 0.396...      67\n",
              "2  [0.6633663366336634, 0.39603960396039606, 0.58...      67\n",
              "3  [0.39603960396039606, 0.5841584158415841, 0.63...      64\n",
              "4  [0.5841584158415841, 0.6336633663366337, 0.514...      60"
            ]
          },
          "execution_count": 103,
          "metadata": {},
          "output_type": "execute_result"
        }
      ],
      "source": [
        "def ventanizar(dataset, tam_ventana, alfabeto_notas = 128,) -> tf.data.Dataset:\n",
        "  tam_ventana = tam_ventana + 1\n",
        "\n",
        "  windows = dataset.window(tam_ventana, shift=1, stride=1, drop_remainder=True)\n",
        "  flatten = lambda x: x.batch(tam_ventana, drop_remainder=True)\n",
        "  sequences = windows.flat_map(flatten)\n",
        "\n",
        "  # Normalize tono de las notas\n",
        "  def normalizar_tono(x):\n",
        "    x = x/tam_ventana\n",
        "    return x\n",
        "\n",
        "  # Partimos los indices\n",
        "  def partir_indices(sequences):\n",
        "    inputs = sequences[:-1]\n",
        "    outputs_dense = sequences[-1]\n",
        "    return normalizar_tono(inputs), outputs_dense\n",
        "  return sequences.map(partir_indices,num_parallel_calls=tf.data.AUTOTUNE)\n",
        "\n",
        "ventanitas = ventanizar(dataset_nota, 100)\n",
        "dataset_pandas = pd.DataFrame(list(ventanitas.as_numpy_iterator()), columns=['inputs','output'])\n",
        "dataset_pandas.head()"
      ]
    },
    {
      "cell_type": "code",
      "execution_count": null,
      "metadata": {
        "colab": {
          "base_uri": "https://localhost:8080/",
          "height": 452
        },
        "id": "uoINaHRIu_lO",
        "outputId": "829940c4-7deb-4b3f-86cc-b4da283e13e4"
      },
      "outputs": [
        {
          "data": {
            "image/png": "[encoded data removed]",
            "text/plain": [
              "<Figure size 640x480 with 1 Axes>"
            ]
          },
          "metadata": {},
          "output_type": "display_data"
        }
      ],
      "source": [
        "# @title output\n",
        "\n",
        "from matplotlib import pyplot as plt\n",
        "dataset_pandas['output'].plot(kind='hist', bins=20, title='output')\n",
        "plt.gca().spines[['top', 'right',]].set_visible(False)"
      ]
    },
    {
      "cell_type": "markdown",
      "metadata": {
        "id": "dDdTp9YS1dXB"
      },
      "source": [
        "Preparacion de los datos para trabajar con la red. Se separa el split de la base de datos de la red propiamente dicha para que se entrene la red siempre con los mismos datos."
      ]
    },
    {
      "cell_type": "code",
      "execution_count": null,
      "metadata": {},
      "outputs": [],
      "source": [
        "# neuronas_entrada = 100 / neuronas_de_la_capa_oculta = 60 / neurona_salida = 1\n",
        "\n",
        "# Extraemos los datos de entrada y de salida\n",
        "inputs = np.array(dataset_pandas['inputs'].tolist())\n",
        "output = np.array(dataset_pandas['output'])\n",
        "\n",
        "# Separar un conjunto de datos para entrenar y otro para probar\n",
        "x_train, x_test, y_train, y_test = train_test_split(inputs, output, test_size=1/3)\n",
        "print(\"x_train:\\n\", x_train)\n",
        "print(\"x_test:\\n\", x_test)\n",
        "print(\"y_train:\\n\", y_train)\n",
        "print(\"y_test:\\n\", y_test)"
      ]
    },
    {
      "cell_type": "markdown",
      "metadata": {},
      "source": [
        "Se inicializan las varaibles y se definen las funciones para el entrenamiento de la red. Se deja todo optimo para entrenar la red."
      ]
    },
    {
      "cell_type": "code",
      "execution_count": null,
      "metadata": {
        "id": "8K5rzTxS1m8L"
      },
      "outputs": [],
      "source": [
        "# Pesos y sesgos\n",
        "w_hidden = np.random.rand(60, 100) * 2 - 1\n",
        "w_output = np.random.rand(1, 60) * 2 - 1\n",
        "b_hidden = np.random.rand(60, 1) * 2 - 1\n",
        "b_output = np.random.rand(1, 1) * 2 - 1\n",
        "\n",
        "# Funcion de activacion y la derivada\n",
        "relu = lambda x: np.where(x > 0, x, 0.01 * x)\n",
        "logistic = lambda x: 1 / (1 + np.exp(-x))\n",
        "d_relu = lambda x: np.where(x > 0, 1, 0.01)\n",
        "d_logistic = lambda x: np.exp(-x) / (1 + np.exp(-x)) ** 2\n",
        "\n",
        "# Forward Propagation, recorrer la red hacia adelante\n",
        "def forward_prop(x):\n",
        "\tz1 = np.matmul(w_hidden, x).reshape((60,1)) + b_hidden\n",
        "\ta1 = relu(z1)\n",
        "\tz2 = np.matmul(w_output, a1) + b_output\n",
        "\ta2 = logistic(z2)\n",
        "\treturn z1, a1, z2, a2\n",
        "\n",
        "# Backpropagation, recorrer la red hacia atras\n",
        "def backward_prop(z1, a1, z2, a2, x, y):\n",
        "\tdc_da2 = 2 * a2 - 2 * y\n",
        "\tda2_dz2 = d_logistic(z2)\n",
        "\tdz2_da1 = w_output\n",
        "\tdz2_dw2 = a1\n",
        "\tdz2_db2 = 1\n",
        "\tda1_dz1 = d_relu(z1)\n",
        "\tdz1_dw1 = x\n",
        "\tdz1_db1 = 1\n",
        "\n",
        "\tdc_dw2 = dc_da2 @ da2_dz2 @ dz2_dw2.T\n",
        "\tdc_db2 = dc_da2 @ da2_dz2 * dz2_db2\n",
        "\tdc_da1 = dc_da2 @ da2_dz2 @ dz2_da1\n",
        "\tdc_dw1 = dc_da1 @ da1_dz1 @ dz1_dw1.T\n",
        "\tdc_db1 = dc_da1 @ da1_dz1 * dz1_db1\n",
        "\n",
        "\treturn dc_dw1, dc_db1, dc_dw2, dc_db2"
      ]
    },
    {
      "cell_type": "markdown",
      "metadata": {},
      "source": [
        "Se define el calculo de precision para el test y el train. Tambien se calcula el accuracy antes de entrenar la red."
      ]
    },
    {
      "cell_type": "code",
      "execution_count": null,
      "metadata": {
        "colab": {
          "base_uri": "https://localhost:8080/"
        },
        "id": "RDwvHBzM6Psd",
        "outputId": "00139ce1-1718-4714-8213-e2bd25b4991e"
      },
      "outputs": [
        {
          "name": "stdout",
          "output_type": "stream",
          "text": [
            "ACCURACY TEST: [[44.42367]]\n",
            "ACCURACY TRAIN: [[44.25432]]\n"
          ]
        }
      ],
      "source": [
        "# Calculo de precision\n",
        "def calcular_accuracy():\n",
        "  accuracy_train = 0\n",
        "  accuracy_test = 0\n",
        "  np.set_printoptions(precision=5, suppress=True)\n",
        "  for i in range(len(x_test)):\n",
        "    test_predictions = forward_prop(x_test[i].T)[3]*128\n",
        "    accuracy_individual_test =  (np.abs((y_test[i]- test_predictions).astype(int) / y_test[i])) * 100\n",
        "    if(accuracy_individual_test > 100): accuracy_individual_test = 100 - accuracy_individual_test%100\n",
        "    accuracy_test += accuracy_individual_test\n",
        "\n",
        "  for i in range(len(x_train)):\n",
        "    train_predictions = forward_prop(x_train[i].T)[3]*128\n",
        "    accuracy_individual_train =  (np.abs((y_train[i] - train_predictions).astype(int) / y_train[i])) * 100\n",
        "    if(accuracy_individual_train > 100): accuracy_individual_train = 100 - accuracy_individual_train%100\n",
        "    accuracy_train += accuracy_individual_train\n",
        "\n",
        "  print(\"ACCURACY TEST:\", accuracy_test / len(x_test))\n",
        "  print(\"ACCURACY TRAIN:\", accuracy_train / len(x_train))\n",
        "  \n",
        "  return accuracy_test, accuracy_train\n",
        "\n",
        "calcular_accuracy()"
      ]
    },
    {
      "cell_type": "markdown",
      "metadata": {},
      "source": [
        "Se arma la funcion que grafica los valores de accuracy"
      ]
    },
    {
      "cell_type": "code",
      "execution_count": null,
      "metadata": {},
      "outputs": [],
      "source": [
        "def graficar_accuracy(L, train_l, test_l):\n",
        "    iters = len(test_l)\n",
        "    fmt_train = {\n",
        "        'color': 'tab:blue',\n",
        "        'ls': 'solid',\n",
        "        'lw': 3,\n",
        "    }\n",
        "    fmt_test = {\n",
        "        'color': 'tab:orange',\n",
        "        'ls': 'solid',\n",
        "        'lw': 3,\n",
        "    }\n",
        "    \n",
        "    fig, (ax) = plt.subplots(1, 1, figsize = (10, 8))\n",
        "\n",
        "    ax.plot(train_l, label = 'Train', **fmt_train)\n",
        "    ax.plot(test_l, label = 'Test', **fmt_test)\n",
        "\n",
        "    ax.grid(which='both')\n",
        "    ax.legend()\n",
        "    ax.set_title(f'Accuracy {L=}')\n",
        "    ax.set_xlabel('Step')\n",
        "\n",
        "    fig.tight_layout()\n",
        "    plt.savefig(f'accuracy_{L=}_{iters=}.png')"
      ]
    },
    {
      "cell_type": "markdown",
      "metadata": {
        "id": "ElE09jZh1xOq"
      },
      "source": [
        "Se define una funcion que contiene el entrenamiento de la red neuronal para asi encontrar los valores mas optimos para la misma. La red ya esta definida para la utilizacion de todas las variables y funciones declaradas anteriormente.\n"
      ]
    },
    {
      "cell_type": "code",
      "execution_count": null,
      "metadata": {
        "colab": {
          "base_uri": "https://localhost:8080/"
        },
        "id": "AWdbxm1u11ZS",
        "outputId": "f1bf7323-218c-45e4-9ddc-33d90b10e7be"
      },
      "outputs": [],
      "source": [
        "def red_neuronal (L, epoch):\n",
        "  accuracy_train_l = []\n",
        "  accuracy_test_l = []\n",
        "\n",
        "  # Ejecutar descenso de gradiente\n",
        "  for i in range(epoch):\n",
        "    # Seleccion aleatoria de unos de los datos de entrenamiento\n",
        "    idx = np.random.choice(range(len(x_train)), 1, replace=False)\n",
        "    x_sample = x_train[idx].T\n",
        "    y_sample = y_train[idx]\n",
        "\n",
        "    # Pasar los datos seleccionados a traves de la red\n",
        "    z1, a1, z2, a2 = forward_prop(x_sample)\n",
        "    # Distribuir el error a traves de la retro propagacion, devolver pendientes para pesos y sesgo\n",
        "    dw_hidden, db_hidden, dw_output, db_output = backward_prop(z1, a1, z2, a2, x_sample, y_sample)\n",
        "  \n",
        "    # Actualizar pesos y sesgos\n",
        "    w_hidden -= L * dw_hidden\n",
        "    b_hidden -= L * db_hidden\n",
        "    w_output -= L * dw_output\n",
        "    b_output -= L * db_output\n",
        "\n",
        "    # Calculo la precision y por cada iteracion la guardo para realizar el grafico\n",
        "    accuracy_test, accuracy_train = calcular_accuracy()\n",
        "    accuracy_test_l.append(accuracy_test)\n",
        "    accuracy_train_l.append(accuracy_train)\n",
        "\n",
        "  print(dw_hidden, b_hidden, w_output, b_output, sep=\"\\n\")\n",
        "  print(\"\\n\\n\")\n",
        "  graficar_accuracy(L=L,train_l=accuracy_train_l, test_l=accuracy_test_l)"
      ]
    },
    {
      "cell_type": "markdown",
      "metadata": {},
      "source": [
        "Ahora pruebo la red neuronal, modificando las variables de la taza |de aprendizajey las iteraciones que da."
      ]
    },
    {
      "cell_type": "code",
      "execution_count": null,
      "metadata": {},
      "outputs": [],
      "source": [
        "iters_l = [100, 1_000, 10_000]\n",
        "L_l = [0.05, 0.01, 0.005, 0.001]\n",
        "for iter in iters_l:\n",
        "    for L in L_l:\n",
        "        red_neuronal(L=L, epoch=iter)"
      ]
    },
    {
      "cell_type": "markdown",
      "metadata": {
        "id": "0g8dPfc4cpFd"
      },
      "source": [
        "Calculo de precision despues del entrenamiento"
      ]
    },
    {
      "cell_type": "code",
      "execution_count": null,
      "metadata": {
        "colab": {
          "base_uri": "https://localhost:8080/"
        },
        "id": "k1zCwdqacpXJ",
        "outputId": "ae008246-15d2-4a9a-bae7-ec6a6da0f043"
      },
      "outputs": [
        {
          "name": "stdout",
          "output_type": "stream",
          "text": [
            "ACCURACY TEST: [[68.26411]]\n",
            "ACCURACY TRAIN: [[68.08057]]\n"
          ]
        }
      ],
      "source": [
        "calcular_accuracy()"
      ]
    }
  ],
  "metadata": {
    "colab": {
      "provenance": []
    },
    "kernelspec": {
      "display_name": "Python 3",
      "language": "python",
      "name": "python3"
    },
    "language_info": {
      "codemirror_mode": {
        "name": "python",
        "version": 3
      },
      "file_extension": ".py",
      "mimetype": "text/x-python",
      "name": "python",
      "nbconvert_exporter": "python",
      "pygments_lexer": "ipython3",
      "version": "3.12.2"
    }
  },
  "nbformat": 4,
  "nbformat_minor": 0
}
